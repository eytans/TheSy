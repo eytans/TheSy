{
 "cells": [
  {
   "cell_type": "code",
   "execution_count": 45,
   "id": "suspended-ridge",
   "metadata": {},
   "outputs": [],
   "source": [
    "import pandas\n",
    "import os\n",
    "import numpy as np\n",
    "\n",
    "from pathlib import Path\n",
    "from numpy import inf"
   ]
  },
  {
   "cell_type": "code",
   "execution_count": 94,
   "id": "worst-iraqi",
   "metadata": {},
   "outputs": [],
   "source": [
    "df = pandas.read_csv(Path('head_to_head-no-cs.csv'))"
   ]
  },
  {
   "cell_type": "code",
   "execution_count": 95,
   "id": "talented-placement",
   "metadata": {},
   "outputs": [
    {
     "data": {
      "text/plain": [
       "Index(['Benchmark', 'Hipster found', 'Hipster < TheSy', 'TheSy found',\n",
       "       'TheSy < Hipster', 'TheSy Time', 'Hipster Time'],\n",
       "      dtype='object')"
      ]
     },
     "execution_count": 95,
     "metadata": {},
     "output_type": "execute_result"
    }
   ],
   "source": [
    "df.columns"
   ]
  },
  {
   "cell_type": "code",
   "execution_count": 96,
   "id": "varied-share",
   "metadata": {},
   "outputs": [
    {
     "name": "stdout",
     "output_type": "stream",
     "text": [
      "time where thesy was better - thesy: 995.91268279, hipster: 40795.305689\n",
      "time where hipster was better - thesy: 16358.927593727, hipster: 6332.0728690000005\n"
     ]
    }
   ],
   "source": [
    "thesy_better = df[df['TheSy Time'] <= df['Hipster Time']]\n",
    "hipster_better = df[df['TheSy Time'] > df['Hipster Time']]\n",
    "\n",
    "print(f\"time where thesy was better - thesy: {thesy_better['TheSy Time'].sum()}, hipster: {thesy_better['Hipster Time'].sum()}\")\n",
    "print(f\"time where hipster was better - thesy: {hipster_better['TheSy Time'].sum()}, hipster: {hipster_better['Hipster Time'].sum()}\")"
   ]
  },
  {
   "cell_type": "code",
   "execution_count": 97,
   "id": "greatest-source",
   "metadata": {},
   "outputs": [
    {
     "data": {
      "text/plain": [
       "0.9411764705882353"
      ]
     },
     "execution_count": 97,
     "metadata": {},
     "output_type": "execute_result"
    }
   ],
   "source": [
    "len(thesy_better) / len(df)"
   ]
  },
  {
   "cell_type": "code",
   "execution_count": 98,
   "id": "corrected-antibody",
   "metadata": {},
   "outputs": [
    {
     "name": "stdout",
     "output_type": "stream",
     "text": [
      "17354.840276516996\n",
      "47127.378558\n"
     ]
    }
   ],
   "source": [
    "print(df['TheSy Time'].sum())\n",
    "print(df['Hipster Time'].sum())"
   ]
  },
  {
   "cell_type": "code",
   "execution_count": 99,
   "id": "comic-massachusetts",
   "metadata": {},
   "outputs": [
    {
     "data": {
      "text/html": [
       "<div>\n",
       "<style scoped>\n",
       "    .dataframe tbody tr th:only-of-type {\n",
       "        vertical-align: middle;\n",
       "    }\n",
       "\n",
       "    .dataframe tbody tr th {\n",
       "        vertical-align: top;\n",
       "    }\n",
       "\n",
       "    .dataframe thead th {\n",
       "        text-align: right;\n",
       "    }\n",
       "</style>\n",
       "<table border=\"1\" class=\"dataframe\">\n",
       "  <thead>\n",
       "    <tr style=\"text-align: right;\">\n",
       "      <th></th>\n",
       "      <th>Hipster found</th>\n",
       "      <th>Hipster &lt; TheSy</th>\n",
       "      <th>TheSy found</th>\n",
       "      <th>TheSy &lt; Hipster</th>\n",
       "      <th>TheSy Time</th>\n",
       "      <th>Hipster Time</th>\n",
       "    </tr>\n",
       "  </thead>\n",
       "  <tbody>\n",
       "    <tr>\n",
       "      <th>count</th>\n",
       "      <td>81.000000</td>\n",
       "      <td>81.000000</td>\n",
       "      <td>81.000000</td>\n",
       "      <td>81.000000</td>\n",
       "      <td>81.000000</td>\n",
       "      <td>81.000000</td>\n",
       "    </tr>\n",
       "    <tr>\n",
       "      <th>mean</th>\n",
       "      <td>5.555556</td>\n",
       "      <td>2.703704</td>\n",
       "      <td>9.469136</td>\n",
       "      <td>3.777778</td>\n",
       "      <td>36.479510</td>\n",
       "      <td>518.373454</td>\n",
       "    </tr>\n",
       "    <tr>\n",
       "      <th>std</th>\n",
       "      <td>4.661008</td>\n",
       "      <td>2.685351</td>\n",
       "      <td>6.967938</td>\n",
       "      <td>3.754997</td>\n",
       "      <td>223.327900</td>\n",
       "      <td>509.726096</td>\n",
       "    </tr>\n",
       "    <tr>\n",
       "      <th>min</th>\n",
       "      <td>0.000000</td>\n",
       "      <td>0.000000</td>\n",
       "      <td>0.000000</td>\n",
       "      <td>0.000000</td>\n",
       "      <td>0.001942</td>\n",
       "      <td>5.989510</td>\n",
       "    </tr>\n",
       "    <tr>\n",
       "      <th>25%</th>\n",
       "      <td>1.000000</td>\n",
       "      <td>1.000000</td>\n",
       "      <td>3.000000</td>\n",
       "      <td>1.000000</td>\n",
       "      <td>0.094995</td>\n",
       "      <td>180.211175</td>\n",
       "    </tr>\n",
       "    <tr>\n",
       "      <th>50%</th>\n",
       "      <td>5.000000</td>\n",
       "      <td>2.000000</td>\n",
       "      <td>8.000000</td>\n",
       "      <td>3.000000</td>\n",
       "      <td>0.254905</td>\n",
       "      <td>298.533363</td>\n",
       "    </tr>\n",
       "    <tr>\n",
       "      <th>75%</th>\n",
       "      <td>9.000000</td>\n",
       "      <td>4.000000</td>\n",
       "      <td>13.000000</td>\n",
       "      <td>7.000000</td>\n",
       "      <td>1.124789</td>\n",
       "      <td>787.765798</td>\n",
       "    </tr>\n",
       "    <tr>\n",
       "      <th>max</th>\n",
       "      <td>16.000000</td>\n",
       "      <td>11.000000</td>\n",
       "      <td>35.000000</td>\n",
       "      <td>14.000000</td>\n",
       "      <td>1958.927594</td>\n",
       "      <td>2590.696147</td>\n",
       "    </tr>\n",
       "  </tbody>\n",
       "</table>\n",
       "</div>"
      ],
      "text/plain": [
       "       Hipster found  Hipster < TheSy  TheSy found  TheSy < Hipster  \\\n",
       "count      81.000000        81.000000    81.000000        81.000000   \n",
       "mean        5.555556         2.703704     9.469136         3.777778   \n",
       "std         4.661008         2.685351     6.967938         3.754997   \n",
       "min         0.000000         0.000000     0.000000         0.000000   \n",
       "25%         1.000000         1.000000     3.000000         1.000000   \n",
       "50%         5.000000         2.000000     8.000000         3.000000   \n",
       "75%         9.000000         4.000000    13.000000         7.000000   \n",
       "max        16.000000        11.000000    35.000000        14.000000   \n",
       "\n",
       "        TheSy Time  Hipster Time  \n",
       "count    81.000000     81.000000  \n",
       "mean     36.479510    518.373454  \n",
       "std     223.327900    509.726096  \n",
       "min       0.001942      5.989510  \n",
       "25%       0.094995    180.211175  \n",
       "50%       0.254905    298.533363  \n",
       "75%       1.124789    787.765798  \n",
       "max    1958.927594   2590.696147  "
      ]
     },
     "execution_count": 99,
     "metadata": {},
     "output_type": "execute_result"
    }
   ],
   "source": [
    "df[df['TheSy Time'] < 3600].describe()"
   ]
  },
  {
   "cell_type": "code",
   "execution_count": 100,
   "id": "metallic-prerequisite",
   "metadata": {},
   "outputs": [
    {
     "name": "stdout",
     "output_type": "stream",
     "text": [
      "       Hipster found  Hipster < TheSy  TheSy found  TheSy < Hipster  \\\n",
      "count      85.000000        85.000000    85.000000        85.000000   \n",
      "mean        5.517647         2.635294     9.694118         3.670588   \n",
      "std         4.555509         2.645063     6.953970         3.710950   \n",
      "min         0.000000         0.000000     0.000000         0.000000   \n",
      "25%         1.000000         1.000000     4.000000         1.000000   \n",
      "50%         5.000000         2.000000     9.000000         3.000000   \n",
      "75%         9.000000         4.000000    15.000000         7.000000   \n",
      "max        16.000000        11.000000    35.000000        14.000000   \n",
      "\n",
      "        TheSy Time  Hipster Time  \n",
      "count    85.000000     85.000000  \n",
      "mean    204.174591    554.439748  \n",
      "std     789.773941    525.476679  \n",
      "min       0.001942      5.989510  \n",
      "25%       0.102835    182.467021  \n",
      "50%       0.258498    305.370790  \n",
      "75%       1.168010    883.799266  \n",
      "max    3600.000000   2590.696147  \n"
     ]
    },
    {
     "data": {
      "text/plain": [
       "count       1.000000\n",
       "mean        2.715518\n",
       "std         0.665351\n",
       "min      3084.115711\n",
       "25%      1774.367063\n",
       "50%      1181.328779\n",
       "75%       756.671143\n",
       "max         0.719638\n",
       "dtype: float64"
      ]
     },
     "execution_count": 100,
     "metadata": {},
     "output_type": "execute_result"
    }
   ],
   "source": [
    "description = df.describe()\n",
    "print(description)\n",
    "description['Hipster Time'] / description['TheSy Time']"
   ]
  },
  {
   "cell_type": "code",
   "execution_count": 101,
   "id": "lonely-convention",
   "metadata": {},
   "outputs": [
    {
     "data": {
      "text/plain": [
       "1.095215994456863"
      ]
     },
     "execution_count": 101,
     "metadata": {},
     "output_type": "execute_result"
    }
   ],
   "source": [
    "51614.65877354501 / 47127.378558"
   ]
  },
  {
   "cell_type": "code",
   "execution_count": 102,
   "id": "sacred-rebate",
   "metadata": {},
   "outputs": [
    {
     "data": {
      "text/plain": [
       "0.013146401997373016"
      ]
     },
     "execution_count": 102,
     "metadata": {},
     "output_type": "execute_result"
    }
   ],
   "source": [
    "hipster_zero = df[df[\"Hipster found\"] == 0]\n",
    "thesy_zero = df[df[\"TheSy found\"] == 0]\n",
    "hipster_z_t_not = df[(df[\"Hipster found\"] == 0) & (df[\"TheSy found\"] != 0)]\n",
    "diff = (df['Hipster < TheSy'] /  df[\"Hipster found\"]) - (df['TheSy < Hipster'] /  df[\"TheSy found\"])\n",
    "diff = diff.replace([np.inf, -np.inf], np.nan).dropna()\n",
    "diff.sum() / len(diff)"
   ]
  },
  {
   "cell_type": "code",
   "execution_count": 103,
   "id": "hidden-belize",
   "metadata": {},
   "outputs": [
    {
     "data": {
      "text/plain": [
       "60"
      ]
     },
     "execution_count": 103,
     "metadata": {},
     "output_type": "execute_result"
    }
   ],
   "source": [
    "len(diff[diff >= 0]) + len(hipster_zero)"
   ]
  },
  {
   "cell_type": "code",
   "execution_count": 104,
   "id": "bright-tourism",
   "metadata": {},
   "outputs": [
    {
     "data": {
      "text/plain": [
       "48"
      ]
     },
     "execution_count": 104,
     "metadata": {},
     "output_type": "execute_result"
    }
   ],
   "source": [
    "len(diff[diff > 0]) + len(hipster_z_t_not)"
   ]
  },
  {
   "cell_type": "code",
   "execution_count": 105,
   "id": "devoted-arizona",
   "metadata": {},
   "outputs": [
    {
     "data": {
      "text/plain": [
       "66"
      ]
     },
     "execution_count": 105,
     "metadata": {},
     "output_type": "execute_result"
    }
   ],
   "source": [
    "len(diff)"
   ]
  },
  {
   "cell_type": "code",
   "execution_count": 106,
   "id": "liberal-wallace",
   "metadata": {},
   "outputs": [
    {
     "data": {
      "text/plain": [
       "0.2978418962611277"
      ]
     },
     "execution_count": 106,
     "metadata": {},
     "output_type": "execute_result"
    }
   ],
   "source": [
    "(diff[diff >= 0].sum() + len(hipster_z_t_not)) / 85"
   ]
  },
  {
   "cell_type": "code",
   "execution_count": null,
   "id": "looking-extra",
   "metadata": {},
   "outputs": [],
   "source": []
  },
  {
   "cell_type": "code",
   "execution_count": null,
   "id": "executive-amber",
   "metadata": {},
   "outputs": [],
   "source": []
  },
  {
   "cell_type": "code",
   "execution_count": null,
   "id": "spare-muscle",
   "metadata": {},
   "outputs": [],
   "source": []
  }
 ],
 "metadata": {
  "kernelspec": {
   "display_name": "Python 3",
   "language": "python",
   "name": "python3"
  },
  "language_info": {
   "codemirror_mode": {
    "name": "ipython",
    "version": 3
   },
   "file_extension": ".py",
   "mimetype": "text/x-python",
   "name": "python",
   "nbconvert_exporter": "python",
   "pygments_lexer": "ipython3",
   "version": "3.8.5"
  }
 },
 "nbformat": 4,
 "nbformat_minor": 5
}
