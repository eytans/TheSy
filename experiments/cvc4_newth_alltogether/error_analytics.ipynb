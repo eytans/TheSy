{
 "cells": [
  {
   "cell_type": "code",
   "execution_count": 3,
   "metadata": {},
   "outputs": [],
   "source": [
    "import pandas as pd\n",
    "df = pd.read_csv('fmcad_results_2023-05-16_23-03-02/master_updated_stats.csv')"
   ]
  },
  {
   "cell_type": "code",
   "execution_count": 5,
   "metadata": {},
   "outputs": [
    {
     "data": {
      "text/plain": [
       "Index(['relative_path', 'features', 'split_depth', 'test_suite', 'Unnamed: 1',\n",
       "       'time', 'stop_reasons', 'success', 'lemma_count',\n",
       "       'proofs_later_filtered', 'case_split_root_count',\n",
       "       'case_split_had_vacuity', 'total_allocated', 'max_allocated',\n",
       "       'file_name', 'relative_path.1', 'num_terms_added', 'total_search_time',\n",
       "       'total_apply_time', 'total_rebuild_time', 'total_enodes', 'num_splits',\n",
       "       'should_delete', 'deleted_colored_enodes', 'colored_unions_count',\n",
       "       'total_colors_size', 'black_size', 'vacuos_colors', 'split_sizes',\n",
       "       'graph_memory', 'eclasses_count', 'id_count',\n",
       "       'colored_equivalences_size', 'black_colored_classes_size',\n",
       "       'parent_color_tracking_size', 'error', 'split_depth.1', 'features.1'],\n",
       "      dtype='object')"
      ]
     },
     "execution_count": 5,
     "metadata": {},
     "output_type": "execute_result"
    }
   ],
   "source": [
    "df.columns"
   ]
  },
  {
   "cell_type": "code",
   "execution_count": 14,
   "metadata": {},
   "outputs": [],
   "source": [
    "configs = df['features'].unique()\n",
    "errors = {}\n",
    "for config in configs:\n",
    "    config_df = df[df['features'] == config]\n",
    "    error_df = config_df[(config_df['error'].notnull()) & ((config_df['error'] == 'Timeout Exception') | (config_df['error'].str.contains('memory allocation')))]\n",
    "    errors[config] = error_df\n"
   ]
  },
  {
   "cell_type": "code",
   "execution_count": 16,
   "metadata": {},
   "outputs": [
    {
     "name": "stdout",
     "output_type": "stream",
     "text": [
      "['Timeout Exception' 'memory allocation of 1179664 bytes failed\\n'\n",
      " 'memory allocation of 86016 bytes failed\\n'\n",
      " 'memory allocation of 112 bytes failed\\n'\n",
      " 'memory allocation of 5018288 bytes failed\\n'\n",
      " 'memory allocation of 60129542144 bytes failed\\n'\n",
      " 'memory allocation of 1376256 bytes failed\\n'\n",
      " 'memory allocation of 2688 bytes failed\\n'\n",
      " 'memory allocation of 233488 bytes failed\\n'\n",
      " 'memory allocation of 2752512 bytes failed\\n'\n",
      " 'memory allocation of 589840 bytes failed\\n'\n",
      " 'memory allocation of 2359312 bytes failed\\n'\n",
      " 'memory allocation of 5018728 bytes failed\\n'\n",
      " 'memory allocation of 448 bytes failed\\n'\n",
      " 'memory allocation of 5016968 bytes failed\\n'\n",
      " 'memory allocation of 116752 bytes failed\\n']\n"
     ]
    }
   ],
   "source": [
    "for e in errors.values():\n",
    "    print(e.error.unique())\n",
    "    break"
   ]
  },
  {
   "cell_type": "code",
   "execution_count": 20,
   "metadata": {},
   "outputs": [],
   "source": [
    "failed_benchmarks = {}\n",
    "for config, error_df in errors.items():\n",
    "    failed_benchmarks[config] = error_df.groupby(['relative_path', 'split_depth']).groups.keys()"
   ]
  },
  {
   "cell_type": "code",
   "execution_count": 22,
   "metadata": {},
   "outputs": [
    {
     "data": {
      "text/plain": [
       "{'split_no_cmemo_stats': dict_keys([('clam/goal8.th', 4), ('clam/goal9.th', 3), ('clam/goal9.th', 4), ('hipspec-rev-equiv/rev-equiv-goal1.th', 2), ('hipspec-rev-equiv/rev-equiv-goal1.th', 3), ('hipspec-rev-equiv/rev-equiv-goal1.th', 4), ('hipspec-rev-equiv/rev-equiv-goal2.th', 2), ('hipspec-rev-equiv/rev-equiv-goal2.th', 3), ('hipspec-rev-equiv/rev-equiv-goal2.th', 4), ('hipspec-rev-equiv/rev-equiv-goal3.th', 2), ('hipspec-rev-equiv/rev-equiv-goal3.th', 3), ('hipspec-rev-equiv/rev-equiv-goal3.th', 4), ('hipspec-rev-equiv/rev-equiv-goal4.th', 2), ('hipspec-rev-equiv/rev-equiv-goal4.th', 3), ('hipspec-rev-equiv/rev-equiv-goal4.th', 4), ('hipspec-rev-equiv/rev-equiv-goal5.th', 2), ('hipspec-rev-equiv/rev-equiv-goal5.th', 3), ('hipspec-rev-equiv/rev-equiv-goal5.th', 4), ('hipspec-rev-equiv/rev-equiv-goal6.th', 2), ('hipspec-rev-equiv/rev-equiv-goal6.th', 3), ('hipspec-rev-equiv/rev-equiv-goal6.th', 4), ('hipspec-rev-equiv/rev-equiv-goal7.th', 2), ('hipspec-rev-equiv/rev-equiv-goal7.th', 3), ('hipspec-rev-equiv/rev-equiv-goal7.th', 4), ('hipspec-rev-equiv/rev-equiv-goal8.th', 2), ('hipspec-rev-equiv/rev-equiv-goal8.th', 3), ('hipspec-rev-equiv/rev-equiv-goal8.th', 4), ('hipspec-rotate/rotate-goal1.th', 4), ('hipspec-rotate/rotate-goal2.th', 4), ('hipspec-rotate/rotate-goal3.th', 3), ('hipspec-rotate/rotate-goal3.th', 4), ('hipspec-rotate/rotate-goal4.th', 3), ('hipspec-rotate/rotate-goal4.th', 4), ('hipspec-rotate/rotate-goal5.th', 4), ('hipspec-rotate/rotate-goal6.th', 4), ('hipspec-rotate/rotate-goal7.th', 3), ('hipspec-rotate/rotate-goal7.th', 4), ('hipspec-rotate/rotate-goal8.th', 4), ('hipspec-rotate/rotate-goal9.th', 3), ('hipspec-rotate/rotate-goal9.th', 4), ('isaplanner/goal1.th', 3), ('isaplanner/goal1.th', 4), ('isaplanner/goal10.th', 2), ('isaplanner/goal10.th', 3), ('isaplanner/goal10.th', 4), ('isaplanner/goal15.th', 3), ('isaplanner/goal15.th', 4), ('isaplanner/goal17.th', 3), ('isaplanner/goal17.th', 4), ('isaplanner/goal18.th', 2), ('isaplanner/goal18.th', 3), ('isaplanner/goal18.th', 4), ('isaplanner/goal19.th', 2), ('isaplanner/goal19.th', 3), ('isaplanner/goal19.th', 4), ('isaplanner/goal20.th', 3), ('isaplanner/goal20.th', 4), ('isaplanner/goal21.th', 2), ('isaplanner/goal21.th', 3), ('isaplanner/goal21.th', 4), ('isaplanner/goal22.th', 2), ('isaplanner/goal22.th', 3), ('isaplanner/goal22.th', 4), ('isaplanner/goal23.th', 2), ('isaplanner/goal23.th', 3), ('isaplanner/goal23.th', 4), ('isaplanner/goal24.th', 2), ('isaplanner/goal24.th', 3), ('isaplanner/goal24.th', 4), ('isaplanner/goal25.th', 3), ('isaplanner/goal25.th', 4), ('isaplanner/goal3.th', 2), ('isaplanner/goal3.th', 3), ('isaplanner/goal3.th', 4), ('isaplanner/goal30.th', 2), ('isaplanner/goal30.th', 3), ('isaplanner/goal30.th', 4), ('isaplanner/goal31.th', 2), ('isaplanner/goal31.th', 3), ('isaplanner/goal31.th', 4), ('isaplanner/goal32.th', 2), ('isaplanner/goal32.th', 3), ('isaplanner/goal32.th', 4), ('isaplanner/goal33.th', 3), ('isaplanner/goal33.th', 4), ('isaplanner/goal34.th', 2), ('isaplanner/goal34.th', 3), ('isaplanner/goal34.th', 4), ('isaplanner/goal39.th', 3), ('isaplanner/goal39.th', 4), ('isaplanner/goal42.th', 4), ('isaplanner/goal46.th', 4), ('isaplanner/goal47.th', 3), ('isaplanner/goal47.th', 4), ('isaplanner/goal49.th', 2), ('isaplanner/goal49.th', 3), ('isaplanner/goal49.th', 4), ('isaplanner/goal5.th', 3), ('isaplanner/goal5.th', 4), ('isaplanner/goal50.th', 2), ('isaplanner/goal50.th', 3), ('isaplanner/goal50.th', 4), ('isaplanner/goal51.th', 2), ('isaplanner/goal51.th', 3), ('isaplanner/goal51.th', 4), ('isaplanner/goal53.th', 2), ('isaplanner/goal53.th', 3), ('isaplanner/goal53.th', 4), ('isaplanner/goal54.th', 2), ('isaplanner/goal54.th', 3), ('isaplanner/goal54.th', 4), ('isaplanner/goal55.th', 2), ('isaplanner/goal55.th', 3), ('isaplanner/goal55.th', 4), ('isaplanner/goal56.th', 2), ('isaplanner/goal56.th', 3), ('isaplanner/goal56.th', 4), ('isaplanner/goal57.th', 3), ('isaplanner/goal57.th', 4), ('isaplanner/goal58.th', 2), ('isaplanner/goal58.th', 3), ('isaplanner/goal58.th', 4), ('isaplanner/goal6.th', 2), ('isaplanner/goal6.th', 3), ('isaplanner/goal6.th', 4), ('isaplanner/goal62.th', 3), ('isaplanner/goal62.th', 4), ('isaplanner/goal64.th', 2), ('isaplanner/goal64.th', 3), ('isaplanner/goal64.th', 4), ('isaplanner/goal66.th', 2), ('isaplanner/goal66.th', 3), ('isaplanner/goal66.th', 4), ('isaplanner/goal67.th', 2), ('isaplanner/goal67.th', 3), ('isaplanner/goal67.th', 4), ('isaplanner/goal68.th', 2), ('isaplanner/goal68.th', 3), ('isaplanner/goal68.th', 4), ('isaplanner/goal69.th', 2), ('isaplanner/goal69.th', 3), ('isaplanner/goal69.th', 4), ('isaplanner/goal7.th', 2), ('isaplanner/goal7.th', 3), ('isaplanner/goal7.th', 4), ('isaplanner/goal70.th', 2), ('isaplanner/goal70.th', 3), ('isaplanner/goal70.th', 4), ('isaplanner/goal71.th', 1), ('isaplanner/goal71.th', 2), ('isaplanner/goal71.th', 3), ('isaplanner/goal71.th', 4), ('isaplanner/goal72.th', 1), ('isaplanner/goal72.th', 2), ('isaplanner/goal72.th', 3), ('isaplanner/goal72.th', 4), ('isaplanner/goal73.th', 1), ('isaplanner/goal73.th', 2), ('isaplanner/goal73.th', 3), ('isaplanner/goal73.th', 4), ('isaplanner/goal74.th', 2), ('isaplanner/goal74.th', 3), ('isaplanner/goal74.th', 4), ('isaplanner/goal76.th', 2), ('isaplanner/goal76.th', 3), ('isaplanner/goal76.th', 4), ('isaplanner/goal78.th', 3), ('isaplanner/goal78.th', 4), ('isaplanner/goal79.th', 3), ('isaplanner/goal79.th', 4), ('isaplanner/goal8.th', 1), ('isaplanner/goal8.th', 2), ('isaplanner/goal8.th', 3), ('isaplanner/goal8.th', 4), ('isaplanner/goal80.th', 3), ('isaplanner/goal80.th', 4), ('isaplanner/goal81.th', 2), ('isaplanner/goal81.th', 3), ('isaplanner/goal81.th', 4), ('isaplanner/goal82.th', 2), ('isaplanner/goal82.th', 3), ('isaplanner/goal82.th', 4), ('isaplanner/goal83.th', 3), ('isaplanner/goal83.th', 4), ('isaplanner/goal85.th', 2), ('isaplanner/goal85.th', 3), ('isaplanner/goal85.th', 4), ('isaplanner/goal86.th', 2), ('isaplanner/goal86.th', 3), ('isaplanner/goal86.th', 4), ('isaplanner/goal87.th', 2), ('isaplanner/goal87.th', 3), ('isaplanner/goal87.th', 4), ('isaplanner/goal9.th', 2), ('isaplanner/goal9.th', 3), ('isaplanner/goal9.th', 4), ('leon-amortize-queue/amortize-queue-goal1.th', 2), ('leon-amortize-queue/amortize-queue-goal1.th', 3), ('leon-amortize-queue/amortize-queue-goal1.th', 4), ('leon-amortize-queue/amortize-queue-goal10.th', 1), ('leon-amortize-queue/amortize-queue-goal10.th', 2), ('leon-amortize-queue/amortize-queue-goal10.th', 3), ('leon-amortize-queue/amortize-queue-goal10.th', 4), ('leon-amortize-queue/amortize-queue-goal11.th', 1), ('leon-amortize-queue/amortize-queue-goal11.th', 2), ('leon-amortize-queue/amortize-queue-goal11.th', 3), ('leon-amortize-queue/amortize-queue-goal11.th', 4), ('leon-amortize-queue/amortize-queue-goal12.th', 1), ('leon-amortize-queue/amortize-queue-goal12.th', 2), ('leon-amortize-queue/amortize-queue-goal12.th', 3), ('leon-amortize-queue/amortize-queue-goal12.th', 4), ('leon-amortize-queue/amortize-queue-goal13.th', 1), ('leon-amortize-queue/amortize-queue-goal13.th', 2), ('leon-amortize-queue/amortize-queue-goal13.th', 3), ('leon-amortize-queue/amortize-queue-goal13.th', 4), ('leon-amortize-queue/amortize-queue-goal14.th', 1), ('leon-amortize-queue/amortize-queue-goal14.th', 2), ('leon-amortize-queue/amortize-queue-goal14.th', 3), ('leon-amortize-queue/amortize-queue-goal14.th', 4), ('leon-amortize-queue/amortize-queue-goal15.th', 1), ('leon-amortize-queue/amortize-queue-goal15.th', 2), ('leon-amortize-queue/amortize-queue-goal15.th', 3), ('leon-amortize-queue/amortize-queue-goal15.th', 4), ('leon-amortize-queue/amortize-queue-goal2.th', 1), ('leon-amortize-queue/amortize-queue-goal2.th', 2), ('leon-amortize-queue/amortize-queue-goal2.th', 3), ('leon-amortize-queue/amortize-queue-goal2.th', 4), ('leon-amortize-queue/amortize-queue-goal3.th', 1), ('leon-amortize-queue/amortize-queue-goal3.th', 2), ('leon-amortize-queue/amortize-queue-goal3.th', 3), ('leon-amortize-queue/amortize-queue-goal3.th', 4), ('leon-amortize-queue/amortize-queue-goal4.th', 1), ('leon-amortize-queue/amortize-queue-goal4.th', 2), ('leon-amortize-queue/amortize-queue-goal4.th', 3), ('leon-amortize-queue/amortize-queue-goal4.th', 4), ('leon-amortize-queue/amortize-queue-goal5.th', 1), ('leon-amortize-queue/amortize-queue-goal5.th', 2), ('leon-amortize-queue/amortize-queue-goal5.th', 3), ('leon-amortize-queue/amortize-queue-goal5.th', 4), ('leon-amortize-queue/amortize-queue-goal6.th', 1), ('leon-amortize-queue/amortize-queue-goal6.th', 2), ('leon-amortize-queue/amortize-queue-goal6.th', 3), ('leon-amortize-queue/amortize-queue-goal6.th', 4), ('leon-amortize-queue/amortize-queue-goal7.th', 1), ('leon-amortize-queue/amortize-queue-goal7.th', 2), ('leon-amortize-queue/amortize-queue-goal7.th', 3), ('leon-amortize-queue/amortize-queue-goal7.th', 4), ('leon-amortize-queue/amortize-queue-goal8.th', 1), ('leon-amortize-queue/amortize-queue-goal8.th', 2), ('leon-amortize-queue/amortize-queue-goal8.th', 3), ('leon-amortize-queue/amortize-queue-goal8.th', 4), ('leon-amortize-queue/amortize-queue-goal9.th', 1), ('leon-amortize-queue/amortize-queue-goal9.th', 2), ('leon-amortize-queue/amortize-queue-goal9.th', 3), ('leon-amortize-queue/amortize-queue-goal9.th', 4), ('leon-heap/heap-goal1.th', 3), ('leon-heap/heap-goal1.th', 4), ('leon-heap/heap-goal10.th', 2), ('leon-heap/heap-goal10.th', 3), ('leon-heap/heap-goal10.th', 4), ('leon-heap/heap-goal11.th', 2), ('leon-heap/heap-goal11.th', 3), ('leon-heap/heap-goal11.th', 4), ('leon-heap/heap-goal12.th', 2), ('leon-heap/heap-goal12.th', 3), ('leon-heap/heap-goal12.th', 4), ('leon-heap/heap-goal13.th', 2), ('leon-heap/heap-goal13.th', 3), ('leon-heap/heap-goal13.th', 4), ('leon-heap/heap-goal2.th', 3), ('leon-heap/heap-goal2.th', 4), ('leon-heap/heap-goal3.th', 3), ('leon-heap/heap-goal3.th', 4), ('leon-heap/heap-goal4.th', 3), ('leon-heap/heap-goal4.th', 4), ('leon-heap/heap-goal5.th', 2), ('leon-heap/heap-goal5.th', 3), ('leon-heap/heap-goal5.th', 4), ('leon-heap/heap-goal6.th', 3), ('leon-heap/heap-goal6.th', 4), ('leon-heap/heap-goal7.th', 2), ('leon-heap/heap-goal7.th', 3), ('leon-heap/heap-goal7.th', 4), ('leon-heap/heap-goal8.th', 3), ('leon-heap/heap-goal8.th', 4), ('leon-heap/heap-goal9.th', 3), ('leon-heap/heap-goal9.th', 4)]),\n",
       " 'split_clone_keep_splits_stats': dict_keys([('hipspec-rotate/rotate-goal7.th', 3), ('hipspec-rotate/rotate-goal7.th', 4), ('isaplanner/goal10.th', 4), ('isaplanner/goal17.th', 3), ('isaplanner/goal17.th', 4), ('isaplanner/goal18.th', 3), ('isaplanner/goal18.th', 4), ('isaplanner/goal19.th', 3), ('isaplanner/goal19.th', 4), ('isaplanner/goal21.th', 3), ('isaplanner/goal21.th', 4), ('isaplanner/goal22.th', 2), ('isaplanner/goal22.th', 3), ('isaplanner/goal22.th', 4), ('isaplanner/goal23.th', 3), ('isaplanner/goal23.th', 4), ('isaplanner/goal24.th', 3), ('isaplanner/goal24.th', 4), ('isaplanner/goal25.th', 3), ('isaplanner/goal25.th', 4), ('isaplanner/goal30.th', 3), ('isaplanner/goal30.th', 4), ('isaplanner/goal31.th', 2), ('isaplanner/goal31.th', 3), ('isaplanner/goal31.th', 4), ('isaplanner/goal32.th', 3), ('isaplanner/goal32.th', 4), ('isaplanner/goal33.th', 3), ('isaplanner/goal33.th', 4), ('isaplanner/goal34.th', 3), ('isaplanner/goal34.th', 4), ('isaplanner/goal55.th', 2), ('isaplanner/goal55.th', 3), ('isaplanner/goal55.th', 4), ('isaplanner/goal56.th', 3), ('isaplanner/goal56.th', 4), ('isaplanner/goal58.th', 3), ('isaplanner/goal58.th', 4), ('isaplanner/goal6.th', 4), ('isaplanner/goal64.th', 3), ('isaplanner/goal64.th', 4), ('isaplanner/goal66.th', 3), ('isaplanner/goal66.th', 4), ('isaplanner/goal7.th', 4), ('isaplanner/goal70.th', 3), ('isaplanner/goal70.th', 4), ('isaplanner/goal71.th', 3), ('isaplanner/goal71.th', 4), ('isaplanner/goal8.th', 1), ('isaplanner/goal8.th', 2), ('isaplanner/goal8.th', 3), ('isaplanner/goal8.th', 4), ('isaplanner/goal81.th', 3), ('isaplanner/goal81.th', 4), ('isaplanner/goal82.th', 3), ('isaplanner/goal82.th', 4), ('isaplanner/goal85.th', 3), ('isaplanner/goal85.th', 4), ('isaplanner/goal86.th', 3), ('isaplanner/goal86.th', 4), ('isaplanner/goal87.th', 4), ('isaplanner/goal9.th', 4), ('leon-amortize-queue/amortize-queue-goal10.th', 1), ('leon-amortize-queue/amortize-queue-goal10.th', 2), ('leon-amortize-queue/amortize-queue-goal10.th', 3), ('leon-amortize-queue/amortize-queue-goal10.th', 4), ('leon-amortize-queue/amortize-queue-goal11.th', 1), ('leon-amortize-queue/amortize-queue-goal11.th', 2), ('leon-amortize-queue/amortize-queue-goal11.th', 3), ('leon-amortize-queue/amortize-queue-goal11.th', 4), ('leon-amortize-queue/amortize-queue-goal12.th', 1), ('leon-amortize-queue/amortize-queue-goal12.th', 2), ('leon-amortize-queue/amortize-queue-goal12.th', 3), ('leon-amortize-queue/amortize-queue-goal12.th', 4), ('leon-amortize-queue/amortize-queue-goal13.th', 1), ('leon-amortize-queue/amortize-queue-goal13.th', 2), ('leon-amortize-queue/amortize-queue-goal13.th', 3), ('leon-amortize-queue/amortize-queue-goal13.th', 4), ('leon-amortize-queue/amortize-queue-goal14.th', 1), ('leon-amortize-queue/amortize-queue-goal14.th', 2), ('leon-amortize-queue/amortize-queue-goal14.th', 3), ('leon-amortize-queue/amortize-queue-goal14.th', 4), ('leon-amortize-queue/amortize-queue-goal15.th', 1), ('leon-amortize-queue/amortize-queue-goal15.th', 2), ('leon-amortize-queue/amortize-queue-goal15.th', 3), ('leon-amortize-queue/amortize-queue-goal15.th', 4), ('leon-amortize-queue/amortize-queue-goal2.th', 3), ('leon-amortize-queue/amortize-queue-goal2.th', 4), ('leon-amortize-queue/amortize-queue-goal3.th', 1), ('leon-amortize-queue/amortize-queue-goal3.th', 2), ('leon-amortize-queue/amortize-queue-goal3.th', 3), ('leon-amortize-queue/amortize-queue-goal3.th', 4), ('leon-amortize-queue/amortize-queue-goal4.th', 1), ('leon-amortize-queue/amortize-queue-goal4.th', 2), ('leon-amortize-queue/amortize-queue-goal4.th', 3), ('leon-amortize-queue/amortize-queue-goal4.th', 4), ('leon-amortize-queue/amortize-queue-goal5.th', 1), ('leon-amortize-queue/amortize-queue-goal5.th', 2), ('leon-amortize-queue/amortize-queue-goal5.th', 3), ('leon-amortize-queue/amortize-queue-goal5.th', 4), ('leon-amortize-queue/amortize-queue-goal6.th', 1), ('leon-amortize-queue/amortize-queue-goal6.th', 2), ('leon-amortize-queue/amortize-queue-goal6.th', 3), ('leon-amortize-queue/amortize-queue-goal6.th', 4), ('leon-amortize-queue/amortize-queue-goal7.th', 1), ('leon-amortize-queue/amortize-queue-goal7.th', 2), ('leon-amortize-queue/amortize-queue-goal7.th', 3), ('leon-amortize-queue/amortize-queue-goal7.th', 4), ('leon-amortize-queue/amortize-queue-goal8.th', 1), ('leon-amortize-queue/amortize-queue-goal8.th', 2), ('leon-amortize-queue/amortize-queue-goal8.th', 3), ('leon-amortize-queue/amortize-queue-goal8.th', 4), ('leon-amortize-queue/amortize-queue-goal9.th', 1), ('leon-amortize-queue/amortize-queue-goal9.th', 2), ('leon-amortize-queue/amortize-queue-goal9.th', 3), ('leon-amortize-queue/amortize-queue-goal9.th', 4)]),\n",
       " 'split_colored_stats': dict_keys([('hipspec-rotate/rotate-goal7.th', 3), ('hipspec-rotate/rotate-goal7.th', 4), ('isaplanner/goal15.th', 4), ('isaplanner/goal17.th', 4), ('isaplanner/goal18.th', 3), ('isaplanner/goal18.th', 4), ('isaplanner/goal20.th', 4), ('isaplanner/goal21.th', 4), ('isaplanner/goal22.th', 3), ('isaplanner/goal22.th', 4), ('isaplanner/goal23.th', 3), ('isaplanner/goal23.th', 4), ('isaplanner/goal24.th', 3), ('isaplanner/goal24.th', 4), ('isaplanner/goal25.th', 4), ('isaplanner/goal3.th', 4), ('isaplanner/goal30.th', 3), ('isaplanner/goal30.th', 4), ('isaplanner/goal31.th', 3), ('isaplanner/goal31.th', 4), ('isaplanner/goal32.th', 3), ('isaplanner/goal32.th', 4), ('isaplanner/goal33.th', 3), ('isaplanner/goal33.th', 4), ('isaplanner/goal34.th', 3), ('isaplanner/goal34.th', 4), ('isaplanner/goal47.th', 4), ('isaplanner/goal50.th', 4), ('isaplanner/goal53.th', 4), ('isaplanner/goal55.th', 3), ('isaplanner/goal55.th', 4), ('isaplanner/goal58.th', 4), ('isaplanner/goal64.th', 3), ('isaplanner/goal64.th', 4), ('isaplanner/goal66.th', 3), ('isaplanner/goal66.th', 4), ('isaplanner/goal67.th', 4), ('isaplanner/goal68.th', 4), ('isaplanner/goal69.th', 3), ('isaplanner/goal69.th', 4), ('isaplanner/goal70.th', 3), ('isaplanner/goal70.th', 4), ('isaplanner/goal71.th', 2), ('isaplanner/goal71.th', 3), ('isaplanner/goal71.th', 4), ('isaplanner/goal72.th', 4), ('isaplanner/goal74.th', 4), ('isaplanner/goal76.th', 4), ('isaplanner/goal79.th', 4), ('isaplanner/goal8.th', 1), ('isaplanner/goal8.th', 2), ('isaplanner/goal8.th', 3), ('isaplanner/goal8.th', 4), ('isaplanner/goal80.th', 4), ('isaplanner/goal81.th', 4), ('isaplanner/goal82.th', 4), ('isaplanner/goal85.th', 3), ('isaplanner/goal85.th', 4), ('isaplanner/goal86.th', 3), ('isaplanner/goal86.th', 4), ('isaplanner/goal87.th', 4), ('leon-amortize-queue/amortize-queue-goal10.th', 1), ('leon-amortize-queue/amortize-queue-goal10.th', 2), ('leon-amortize-queue/amortize-queue-goal10.th', 3), ('leon-amortize-queue/amortize-queue-goal10.th', 4), ('leon-amortize-queue/amortize-queue-goal11.th', 1), ('leon-amortize-queue/amortize-queue-goal11.th', 2), ('leon-amortize-queue/amortize-queue-goal11.th', 3), ('leon-amortize-queue/amortize-queue-goal11.th', 4), ('leon-amortize-queue/amortize-queue-goal12.th', 1), ('leon-amortize-queue/amortize-queue-goal12.th', 2), ('leon-amortize-queue/amortize-queue-goal12.th', 3), ('leon-amortize-queue/amortize-queue-goal12.th', 4), ('leon-amortize-queue/amortize-queue-goal13.th', 1), ('leon-amortize-queue/amortize-queue-goal13.th', 2), ('leon-amortize-queue/amortize-queue-goal13.th', 3), ('leon-amortize-queue/amortize-queue-goal13.th', 4), ('leon-amortize-queue/amortize-queue-goal14.th', 1), ('leon-amortize-queue/amortize-queue-goal14.th', 2), ('leon-amortize-queue/amortize-queue-goal14.th', 3), ('leon-amortize-queue/amortize-queue-goal14.th', 4), ('leon-amortize-queue/amortize-queue-goal15.th', 1), ('leon-amortize-queue/amortize-queue-goal15.th', 2), ('leon-amortize-queue/amortize-queue-goal15.th', 3), ('leon-amortize-queue/amortize-queue-goal15.th', 4), ('leon-amortize-queue/amortize-queue-goal2.th', 4), ('leon-amortize-queue/amortize-queue-goal3.th', 1), ('leon-amortize-queue/amortize-queue-goal3.th', 2), ('leon-amortize-queue/amortize-queue-goal3.th', 3), ('leon-amortize-queue/amortize-queue-goal3.th', 4), ('leon-amortize-queue/amortize-queue-goal4.th', 1), ('leon-amortize-queue/amortize-queue-goal4.th', 2), ('leon-amortize-queue/amortize-queue-goal4.th', 3), ('leon-amortize-queue/amortize-queue-goal4.th', 4), ('leon-amortize-queue/amortize-queue-goal5.th', 1), ('leon-amortize-queue/amortize-queue-goal5.th', 2), ('leon-amortize-queue/amortize-queue-goal5.th', 3), ('leon-amortize-queue/amortize-queue-goal5.th', 4), ('leon-amortize-queue/amortize-queue-goal6.th', 1), ('leon-amortize-queue/amortize-queue-goal6.th', 2), ('leon-amortize-queue/amortize-queue-goal6.th', 3), ('leon-amortize-queue/amortize-queue-goal6.th', 4), ('leon-amortize-queue/amortize-queue-goal7.th', 1), ('leon-amortize-queue/amortize-queue-goal7.th', 2), ('leon-amortize-queue/amortize-queue-goal7.th', 3), ('leon-amortize-queue/amortize-queue-goal7.th', 4), ('leon-amortize-queue/amortize-queue-goal8.th', 1), ('leon-amortize-queue/amortize-queue-goal8.th', 2), ('leon-amortize-queue/amortize-queue-goal8.th', 3), ('leon-amortize-queue/amortize-queue-goal8.th', 4), ('leon-amortize-queue/amortize-queue-goal9.th', 1), ('leon-amortize-queue/amortize-queue-goal9.th', 2), ('leon-amortize-queue/amortize-queue-goal9.th', 3), ('leon-amortize-queue/amortize-queue-goal9.th', 4), ('leon-heap/heap-goal10.th', 4), ('leon-heap/heap-goal11.th', 4), ('leon-heap/heap-goal12.th', 4), ('leon-heap/heap-goal13.th', 4), ('leon-heap/heap-goal2.th', 4), ('leon-heap/heap-goal3.th', 4), ('leon-heap/heap-goal4.th', 4), ('leon-heap/heap-goal5.th', 4), ('leon-heap/heap-goal6.th', 4), ('leon-heap/heap-goal7.th', 4), ('leon-heap/heap-goal8.th', 4), ('leon-heap/heap-goal9.th', 4)]),\n",
       " 'split_clone_stats': dict_keys([('hipspec-rotate/rotate-goal7.th', 4), ('isaplanner/goal22.th', 4), ('isaplanner/goal23.th', 4), ('isaplanner/goal24.th', 4), ('isaplanner/goal31.th', 4), ('isaplanner/goal32.th', 4), ('isaplanner/goal55.th', 3), ('isaplanner/goal55.th', 4), ('isaplanner/goal64.th', 3), ('isaplanner/goal64.th', 4), ('isaplanner/goal70.th', 4), ('isaplanner/goal8.th', 1), ('isaplanner/goal8.th', 2), ('isaplanner/goal8.th', 3), ('isaplanner/goal8.th', 4), ('isaplanner/goal82.th', 4), ('leon-amortize-queue/amortize-queue-goal10.th', 1), ('leon-amortize-queue/amortize-queue-goal10.th', 2), ('leon-amortize-queue/amortize-queue-goal10.th', 3), ('leon-amortize-queue/amortize-queue-goal10.th', 4), ('leon-amortize-queue/amortize-queue-goal11.th', 1), ('leon-amortize-queue/amortize-queue-goal11.th', 2), ('leon-amortize-queue/amortize-queue-goal11.th', 3), ('leon-amortize-queue/amortize-queue-goal11.th', 4), ('leon-amortize-queue/amortize-queue-goal12.th', 1), ('leon-amortize-queue/amortize-queue-goal12.th', 2), ('leon-amortize-queue/amortize-queue-goal12.th', 3), ('leon-amortize-queue/amortize-queue-goal12.th', 4), ('leon-amortize-queue/amortize-queue-goal13.th', 1), ('leon-amortize-queue/amortize-queue-goal13.th', 2), ('leon-amortize-queue/amortize-queue-goal13.th', 3), ('leon-amortize-queue/amortize-queue-goal13.th', 4), ('leon-amortize-queue/amortize-queue-goal14.th', 1), ('leon-amortize-queue/amortize-queue-goal14.th', 2), ('leon-amortize-queue/amortize-queue-goal14.th', 3), ('leon-amortize-queue/amortize-queue-goal14.th', 4), ('leon-amortize-queue/amortize-queue-goal15.th', 1), ('leon-amortize-queue/amortize-queue-goal15.th', 2), ('leon-amortize-queue/amortize-queue-goal15.th', 3), ('leon-amortize-queue/amortize-queue-goal15.th', 4), ('leon-amortize-queue/amortize-queue-goal2.th', 4), ('leon-amortize-queue/amortize-queue-goal3.th', 1), ('leon-amortize-queue/amortize-queue-goal3.th', 2), ('leon-amortize-queue/amortize-queue-goal3.th', 3), ('leon-amortize-queue/amortize-queue-goal3.th', 4), ('leon-amortize-queue/amortize-queue-goal4.th', 1), ('leon-amortize-queue/amortize-queue-goal4.th', 2), ('leon-amortize-queue/amortize-queue-goal4.th', 3), ('leon-amortize-queue/amortize-queue-goal4.th', 4), ('leon-amortize-queue/amortize-queue-goal5.th', 1), ('leon-amortize-queue/amortize-queue-goal5.th', 2), ('leon-amortize-queue/amortize-queue-goal5.th', 3), ('leon-amortize-queue/amortize-queue-goal5.th', 4), ('leon-amortize-queue/amortize-queue-goal6.th', 1), ('leon-amortize-queue/amortize-queue-goal6.th', 2), ('leon-amortize-queue/amortize-queue-goal6.th', 3), ('leon-amortize-queue/amortize-queue-goal6.th', 4), ('leon-amortize-queue/amortize-queue-goal7.th', 1), ('leon-amortize-queue/amortize-queue-goal7.th', 2), ('leon-amortize-queue/amortize-queue-goal7.th', 3), ('leon-amortize-queue/amortize-queue-goal7.th', 4), ('leon-amortize-queue/amortize-queue-goal8.th', 1), ('leon-amortize-queue/amortize-queue-goal8.th', 2), ('leon-amortize-queue/amortize-queue-goal8.th', 3), ('leon-amortize-queue/amortize-queue-goal8.th', 4), ('leon-amortize-queue/amortize-queue-goal9.th', 1), ('leon-amortize-queue/amortize-queue-goal9.th', 2), ('leon-amortize-queue/amortize-queue-goal9.th', 3), ('leon-amortize-queue/amortize-queue-goal9.th', 4)]),\n",
       " 'split_no_cremove_stats': dict_keys([('hipspec-rotate/rotate-goal7.th', 3), ('hipspec-rotate/rotate-goal7.th', 4), ('isaplanner/goal15.th', 4), ('isaplanner/goal17.th', 4), ('isaplanner/goal18.th', 3), ('isaplanner/goal18.th', 4), ('isaplanner/goal19.th', 4), ('isaplanner/goal20.th', 4), ('isaplanner/goal21.th', 4), ('isaplanner/goal22.th', 3), ('isaplanner/goal22.th', 4), ('isaplanner/goal23.th', 3), ('isaplanner/goal23.th', 4), ('isaplanner/goal24.th', 3), ('isaplanner/goal24.th', 4), ('isaplanner/goal25.th', 4), ('isaplanner/goal3.th', 4), ('isaplanner/goal30.th', 3), ('isaplanner/goal30.th', 4), ('isaplanner/goal31.th', 3), ('isaplanner/goal31.th', 4), ('isaplanner/goal32.th', 3), ('isaplanner/goal32.th', 4), ('isaplanner/goal33.th', 3), ('isaplanner/goal33.th', 4), ('isaplanner/goal34.th', 3), ('isaplanner/goal34.th', 4), ('isaplanner/goal47.th', 4), ('isaplanner/goal50.th', 4), ('isaplanner/goal53.th', 4), ('isaplanner/goal55.th', 3), ('isaplanner/goal55.th', 4), ('isaplanner/goal58.th', 4), ('isaplanner/goal64.th', 3), ('isaplanner/goal64.th', 4), ('isaplanner/goal66.th', 3), ('isaplanner/goal66.th', 4), ('isaplanner/goal67.th', 4), ('isaplanner/goal68.th', 4), ('isaplanner/goal69.th', 3), ('isaplanner/goal69.th', 4), ('isaplanner/goal70.th', 3), ('isaplanner/goal70.th', 4), ('isaplanner/goal71.th', 2), ('isaplanner/goal71.th', 3), ('isaplanner/goal71.th', 4), ('isaplanner/goal72.th', 4), ('isaplanner/goal79.th', 4), ('isaplanner/goal8.th', 1), ('isaplanner/goal8.th', 2), ('isaplanner/goal8.th', 3), ('isaplanner/goal8.th', 4), ('isaplanner/goal80.th', 4), ('isaplanner/goal81.th', 4), ('isaplanner/goal82.th', 4), ('isaplanner/goal85.th', 3), ('isaplanner/goal85.th', 4), ('isaplanner/goal86.th', 3), ('isaplanner/goal86.th', 4), ('isaplanner/goal87.th', 4), ('leon-amortize-queue/amortize-queue-goal10.th', 1), ('leon-amortize-queue/amortize-queue-goal10.th', 2), ('leon-amortize-queue/amortize-queue-goal10.th', 3), ('leon-amortize-queue/amortize-queue-goal10.th', 4), ('leon-amortize-queue/amortize-queue-goal11.th', 1), ('leon-amortize-queue/amortize-queue-goal11.th', 2), ('leon-amortize-queue/amortize-queue-goal11.th', 3), ('leon-amortize-queue/amortize-queue-goal11.th', 4), ('leon-amortize-queue/amortize-queue-goal12.th', 1), ('leon-amortize-queue/amortize-queue-goal12.th', 2), ('leon-amortize-queue/amortize-queue-goal12.th', 3), ('leon-amortize-queue/amortize-queue-goal12.th', 4), ('leon-amortize-queue/amortize-queue-goal13.th', 1), ('leon-amortize-queue/amortize-queue-goal13.th', 2), ('leon-amortize-queue/amortize-queue-goal13.th', 3), ('leon-amortize-queue/amortize-queue-goal13.th', 4), ('leon-amortize-queue/amortize-queue-goal14.th', 1), ('leon-amortize-queue/amortize-queue-goal14.th', 2), ('leon-amortize-queue/amortize-queue-goal14.th', 3), ('leon-amortize-queue/amortize-queue-goal14.th', 4), ('leon-amortize-queue/amortize-queue-goal15.th', 1), ('leon-amortize-queue/amortize-queue-goal15.th', 2), ('leon-amortize-queue/amortize-queue-goal15.th', 3), ('leon-amortize-queue/amortize-queue-goal15.th', 4), ('leon-amortize-queue/amortize-queue-goal2.th', 4), ('leon-amortize-queue/amortize-queue-goal3.th', 1), ('leon-amortize-queue/amortize-queue-goal3.th', 2), ('leon-amortize-queue/amortize-queue-goal3.th', 3), ('leon-amortize-queue/amortize-queue-goal3.th', 4), ('leon-amortize-queue/amortize-queue-goal4.th', 1), ('leon-amortize-queue/amortize-queue-goal4.th', 2), ('leon-amortize-queue/amortize-queue-goal4.th', 3), ('leon-amortize-queue/amortize-queue-goal4.th', 4), ('leon-amortize-queue/amortize-queue-goal5.th', 1), ('leon-amortize-queue/amortize-queue-goal5.th', 2), ('leon-amortize-queue/amortize-queue-goal5.th', 3), ('leon-amortize-queue/amortize-queue-goal5.th', 4), ('leon-amortize-queue/amortize-queue-goal6.th', 1), ('leon-amortize-queue/amortize-queue-goal6.th', 2), ('leon-amortize-queue/amortize-queue-goal6.th', 3), ('leon-amortize-queue/amortize-queue-goal6.th', 4), ('leon-amortize-queue/amortize-queue-goal7.th', 1), ('leon-amortize-queue/amortize-queue-goal7.th', 2), ('leon-amortize-queue/amortize-queue-goal7.th', 3), ('leon-amortize-queue/amortize-queue-goal7.th', 4), ('leon-amortize-queue/amortize-queue-goal8.th', 1), ('leon-amortize-queue/amortize-queue-goal8.th', 2), ('leon-amortize-queue/amortize-queue-goal8.th', 3), ('leon-amortize-queue/amortize-queue-goal8.th', 4), ('leon-amortize-queue/amortize-queue-goal9.th', 1), ('leon-amortize-queue/amortize-queue-goal9.th', 2), ('leon-amortize-queue/amortize-queue-goal9.th', 3), ('leon-amortize-queue/amortize-queue-goal9.th', 4), ('leon-heap/heap-goal10.th', 4), ('leon-heap/heap-goal11.th', 4), ('leon-heap/heap-goal12.th', 4), ('leon-heap/heap-goal13.th', 4), ('leon-heap/heap-goal2.th', 4), ('leon-heap/heap-goal3.th', 4), ('leon-heap/heap-goal4.th', 4), ('leon-heap/heap-goal5.th', 4), ('leon-heap/heap-goal6.th', 4), ('leon-heap/heap-goal7.th', 4), ('leon-heap/heap-goal8.th', 4), ('leon-heap/heap-goal9.th', 4)])}"
      ]
     },
     "execution_count": 22,
     "metadata": {},
     "output_type": "execute_result"
    }
   ],
   "source": [
    "failed_benchmarks"
   ]
  },
  {
   "cell_type": "code",
   "execution_count": 31,
   "metadata": {},
   "outputs": [
    {
     "name": "stdout",
     "output_type": "stream",
     "text": [
      "116\n",
      "0.6805555555555556\n",
      "0.40418118466898956\n",
      "0.43902439024390244\n"
     ]
    }
   ],
   "source": [
    "colored_errors = set(failed_benchmarks['split_colored_stats'])\n",
    "keep_errors = set(failed_benchmarks['split_clone_keep_splits_stats'])\n",
    "no_cmemo_errors = set(failed_benchmarks['split_no_cmemo_stats'])\n",
    "print(len(keep_errors))\n",
    "intersection = colored_errors.intersection(keep_errors)\n",
    "intersection2 = keep_errors.intersection(no_cmemo_errors)\n",
    "intersection3 = colored_errors.intersection(no_cmemo_errors)\n",
    "percentage = len(intersection) / len(colored_errors.union(keep_errors))\n",
    "percentage2 = len(intersection2) / len(no_cmemo_errors.union(keep_errors))\n",
    "percentage3 = len(intersection3) / len(colored_errors.union(no_cmemo_errors))\n",
    "print(percentage)\n",
    "print(percentage2)\n",
    "print(percentage3)"
   ]
  },
  {
   "cell_type": "code",
   "execution_count": 54,
   "metadata": {},
   "outputs": [
    {
     "name": "stdout",
     "output_type": "stream",
     "text": [
      "Index(['relative_path', 'features', 'split_depth', 'test_suite', 'Unnamed: 1',\n",
      "       'time', 'stop_reasons', 'success', 'lemma_count',\n",
      "       'proofs_later_filtered', 'case_split_root_count',\n",
      "       'case_split_had_vacuity', 'total_allocated', 'max_allocated',\n",
      "       'file_name', 'relative_path.1', 'num_terms_added', 'total_search_time',\n",
      "       'total_apply_time', 'total_rebuild_time', 'total_enodes', 'num_splits',\n",
      "       'should_delete', 'deleted_colored_enodes', 'colored_unions_count',\n",
      "       'total_colors_size', 'black_size', 'vacuos_colors', 'split_sizes',\n",
      "       'graph_memory', 'eclasses_count', 'id_count',\n",
      "       'colored_equivalences_size', 'black_colored_classes_size',\n",
      "       'parent_color_tracking_size', 'error', 'split_depth.1', 'features.1'],\n",
      "      dtype='object')\n",
      "Index(['relative_path', 'features', 'split_depth', 'test_suite', 'Unnamed: 1',\n",
      "       'time', 'stop_reasons', 'success', 'lemma_count',\n",
      "       'proofs_later_filtered', 'case_split_root_count',\n",
      "       'case_split_had_vacuity', 'total_allocated', 'max_allocated',\n",
      "       'file_name', 'relative_path.1', 'num_terms_added', 'total_search_time',\n",
      "       'total_apply_time', 'total_rebuild_time', 'total_enodes', 'num_splits',\n",
      "       'should_delete', 'deleted_colored_enodes', 'colored_unions_count',\n",
      "       'total_colors_size', 'black_size', 'vacuos_colors', 'split_sizes',\n",
      "       'graph_memory', 'eclasses_count', 'id_count',\n",
      "       'colored_equivalences_size', 'black_colored_classes_size',\n",
      "       'parent_color_tracking_size', 'error', 'split_depth.1', 'features.1'],\n",
      "      dtype='object')\n",
      "Index(['relative_path', 'features', 'split_depth', 'test_suite', 'Unnamed: 1',\n",
      "       'time', 'stop_reasons', 'success', 'lemma_count',\n",
      "       'proofs_later_filtered', 'case_split_root_count',\n",
      "       'case_split_had_vacuity', 'total_allocated', 'max_allocated',\n",
      "       'file_name', 'relative_path.1', 'num_terms_added', 'total_search_time',\n",
      "       'total_apply_time', 'total_rebuild_time', 'total_enodes', 'num_splits',\n",
      "       'should_delete', 'deleted_colored_enodes', 'colored_unions_count',\n",
      "       'total_colors_size', 'black_size', 'vacuos_colors', 'split_sizes',\n",
      "       'graph_memory', 'eclasses_count', 'id_count',\n",
      "       'colored_equivalences_size', 'black_colored_classes_size',\n",
      "       'parent_color_tracking_size', 'error', 'split_depth.1', 'features.1'],\n",
      "      dtype='object')\n",
      "Index(['relative_path', 'features', 'split_depth', 'test_suite', 'Unnamed: 1',\n",
      "       'time', 'stop_reasons', 'success', 'lemma_count',\n",
      "       'proofs_later_filtered', 'case_split_root_count',\n",
      "       'case_split_had_vacuity', 'total_allocated', 'max_allocated',\n",
      "       'file_name', 'relative_path.1', 'num_terms_added', 'total_search_time',\n",
      "       'total_apply_time', 'total_rebuild_time', 'total_enodes', 'num_splits',\n",
      "       'should_delete', 'deleted_colored_enodes', 'colored_unions_count',\n",
      "       'total_colors_size', 'black_size', 'vacuos_colors', 'split_sizes',\n",
      "       'graph_memory', 'eclasses_count', 'id_count',\n",
      "       'colored_equivalences_size', 'black_colored_classes_size',\n",
      "       'parent_color_tracking_size', 'error', 'split_depth.1', 'features.1'],\n",
      "      dtype='object')\n",
      "Index(['relative_path', 'features', 'split_depth', 'test_suite', 'Unnamed: 1',\n",
      "       'time', 'stop_reasons', 'success', 'lemma_count',\n",
      "       'proofs_later_filtered', 'case_split_root_count',\n",
      "       'case_split_had_vacuity', 'total_allocated', 'max_allocated',\n",
      "       'file_name', 'relative_path.1', 'num_terms_added', 'total_search_time',\n",
      "       'total_apply_time', 'total_rebuild_time', 'total_enodes', 'num_splits',\n",
      "       'should_delete', 'deleted_colored_enodes', 'colored_unions_count',\n",
      "       'total_colors_size', 'black_size', 'vacuos_colors', 'split_sizes',\n",
      "       'graph_memory', 'eclasses_count', 'id_count',\n",
      "       'colored_equivalences_size', 'black_colored_classes_size',\n",
      "       'parent_color_tracking_size', 'error', 'split_depth.1', 'features.1'],\n",
      "      dtype='object')\n"
     ]
    }
   ],
   "source": [
    "# find all lines in errors for intersection\n",
    "intersection_errors = {}\n",
    "for config, error_df in errors.items():\n",
    "    print(error_df.columns)\n",
    "    intersection_errors[config] = error_df[error_df.apply(lambda row: (row['relative_path'], row['split_depth']) in intersection, axis=1)]\n"
   ]
  },
  {
   "cell_type": "code",
   "execution_count": 60,
   "metadata": {},
   "outputs": [
    {
     "data": {
      "text/html": [
       "<div>\n",
       "<style scoped>\n",
       "    .dataframe tbody tr th:only-of-type {\n",
       "        vertical-align: middle;\n",
       "    }\n",
       "\n",
       "    .dataframe tbody tr th {\n",
       "        vertical-align: top;\n",
       "    }\n",
       "\n",
       "    .dataframe thead th {\n",
       "        text-align: right;\n",
       "    }\n",
       "</style>\n",
       "<table border=\"1\" class=\"dataframe\">\n",
       "  <thead>\n",
       "    <tr style=\"text-align: right;\">\n",
       "      <th></th>\n",
       "      <th></th>\n",
       "      <th>colored_error</th>\n",
       "      <th>keep_error</th>\n",
       "    </tr>\n",
       "    <tr>\n",
       "      <th>relative_path</th>\n",
       "      <th>split_depth</th>\n",
       "      <th></th>\n",
       "      <th></th>\n",
       "    </tr>\n",
       "  </thead>\n",
       "  <tbody>\n",
       "    <tr>\n",
       "      <th>hipspec-rotate/rotate-goal7.th</th>\n",
       "      <th>3</th>\n",
       "      <td>Timeout Exception</td>\n",
       "      <td>memory allocation of 4194304 bytes failed\\n</td>\n",
       "    </tr>\n",
       "    <tr>\n",
       "      <th>leon-amortize-queue/amortize-queue-goal12.th</th>\n",
       "      <th>3</th>\n",
       "      <td>Timeout Exception</td>\n",
       "      <td>memory allocation of 682480 bytes failed\\n</td>\n",
       "    </tr>\n",
       "    <tr>\n",
       "      <th>leon-amortize-queue/amortize-queue-goal8.th</th>\n",
       "      <th>3</th>\n",
       "      <td>Timeout Exception</td>\n",
       "      <td>memory allocation of 240 bytes failed\\n</td>\n",
       "    </tr>\n",
       "    <tr>\n",
       "      <th>leon-amortize-queue/amortize-queue-goal5.th</th>\n",
       "      <th>3</th>\n",
       "      <td>Timeout Exception</td>\n",
       "      <td>memory allocation of 1203344 bytes failed\\n</td>\n",
       "    </tr>\n",
       "    <tr>\n",
       "      <th>leon-amortize-queue/amortize-queue-goal7.th</th>\n",
       "      <th>3</th>\n",
       "      <td>Timeout Exception</td>\n",
       "      <td>memory allocation of 8 bytes failed\\n</td>\n",
       "    </tr>\n",
       "    <tr>\n",
       "      <th>...</th>\n",
       "      <th>...</th>\n",
       "      <td>...</td>\n",
       "      <td>...</td>\n",
       "    </tr>\n",
       "    <tr>\n",
       "      <th>leon-amortize-queue/amortize-queue-goal10.th</th>\n",
       "      <th>2</th>\n",
       "      <td>Timeout Exception</td>\n",
       "      <td>memory allocation of 240 bytes failed\\n</td>\n",
       "    </tr>\n",
       "    <tr>\n",
       "      <th>leon-amortize-queue/amortize-queue-goal6.th</th>\n",
       "      <th>2</th>\n",
       "      <td>Timeout Exception</td>\n",
       "      <td>memory allocation of 11004000 bytes failed\\n</td>\n",
       "    </tr>\n",
       "    <tr>\n",
       "      <th>leon-amortize-queue/amortize-queue-goal4.th</th>\n",
       "      <th>2</th>\n",
       "      <td>Timeout Exception</td>\n",
       "      <td>memory allocation of 240 bytes failed\\n</td>\n",
       "    </tr>\n",
       "    <tr>\n",
       "      <th>leon-amortize-queue/amortize-queue-goal3.th</th>\n",
       "      <th>2</th>\n",
       "      <td>memory allocation of 60129542144 bytes failed\\n</td>\n",
       "      <td>memory allocation of 1845493760 bytes failed\\n</td>\n",
       "    </tr>\n",
       "    <tr>\n",
       "      <th>isaplanner/goal8.th</th>\n",
       "      <th>2</th>\n",
       "      <td>Timeout Exception</td>\n",
       "      <td>Timeout Exception</td>\n",
       "    </tr>\n",
       "  </tbody>\n",
       "</table>\n",
       "<p>98 rows × 2 columns</p>\n",
       "</div>"
      ],
      "text/plain": [
       "                                                                                            colored_error   \n",
       "relative_path                                split_depth                                                    \n",
       "hipspec-rotate/rotate-goal7.th               3                                          Timeout Exception  \\\n",
       "leon-amortize-queue/amortize-queue-goal12.th 3                                          Timeout Exception   \n",
       "leon-amortize-queue/amortize-queue-goal8.th  3                                          Timeout Exception   \n",
       "leon-amortize-queue/amortize-queue-goal5.th  3                                          Timeout Exception   \n",
       "leon-amortize-queue/amortize-queue-goal7.th  3                                          Timeout Exception   \n",
       "...                                                                                                   ...   \n",
       "leon-amortize-queue/amortize-queue-goal10.th 2                                          Timeout Exception   \n",
       "leon-amortize-queue/amortize-queue-goal6.th  2                                          Timeout Exception   \n",
       "leon-amortize-queue/amortize-queue-goal4.th  2                                          Timeout Exception   \n",
       "leon-amortize-queue/amortize-queue-goal3.th  2            memory allocation of 60129542144 bytes failed\\n   \n",
       "isaplanner/goal8.th                          2                                          Timeout Exception   \n",
       "\n",
       "                                                                                              keep_error  \n",
       "relative_path                                split_depth                                                  \n",
       "hipspec-rotate/rotate-goal7.th               3               memory allocation of 4194304 bytes failed\\n  \n",
       "leon-amortize-queue/amortize-queue-goal12.th 3                memory allocation of 682480 bytes failed\\n  \n",
       "leon-amortize-queue/amortize-queue-goal8.th  3                   memory allocation of 240 bytes failed\\n  \n",
       "leon-amortize-queue/amortize-queue-goal5.th  3               memory allocation of 1203344 bytes failed\\n  \n",
       "leon-amortize-queue/amortize-queue-goal7.th  3                     memory allocation of 8 bytes failed\\n  \n",
       "...                                                                                                  ...  \n",
       "leon-amortize-queue/amortize-queue-goal10.th 2                   memory allocation of 240 bytes failed\\n  \n",
       "leon-amortize-queue/amortize-queue-goal6.th  2              memory allocation of 11004000 bytes failed\\n  \n",
       "leon-amortize-queue/amortize-queue-goal4.th  2                   memory allocation of 240 bytes failed\\n  \n",
       "leon-amortize-queue/amortize-queue-goal3.th  2            memory allocation of 1845493760 bytes failed\\n  \n",
       "isaplanner/goal8.th                          2                                         Timeout Exception  \n",
       "\n",
       "[98 rows x 2 columns]"
      ]
     },
     "execution_count": 60,
     "metadata": {},
     "output_type": "execute_result"
    }
   ],
   "source": [
    "fixed_colored = intersection_errors['split_colored_stats'][['relative_path', 'split_depth', 'error']]\n",
    "fixed_keep = intersection_errors['split_clone_keep_splits_stats'][['relative_path', 'split_depth', 'error']]\n",
    "\n",
    "# Have colored_error and keep_error in same df when combiingin by relative_path and split_depth\n",
    "# first index\n",
    "fixed_colored = fixed_colored.set_index(['relative_path', 'split_depth'])\n",
    "fixed_keep = fixed_keep.set_index(['relative_path', 'split_depth'])\n",
    "fixed_colored = fixed_colored.rename(columns={'error': 'colored_error'})\n",
    "fixed_keep = fixed_keep.rename(columns={'error': 'keep_error'})\n",
    "fixed_colored['keep_error'] = fixed_keep['keep_error']\n",
    "fixed_colored"
   ]
  },
  {
   "cell_type": "code",
   "execution_count": 67,
   "metadata": {},
   "outputs": [
    {
     "data": {
      "text/plain": [
       "(53, 2)"
      ]
     },
     "execution_count": 67,
     "metadata": {},
     "output_type": "execute_result"
    }
   ],
   "source": [
    "# Check fixed colored where index releative_path contains leon-amortize-queue\n",
    "fixed_colored[fixed_colored.index.get_level_values('relative_path').str.contains('leon-amortize-queue')].shape"
   ]
  },
  {
   "cell_type": "code",
   "execution_count": 71,
   "metadata": {},
   "outputs": [
    {
     "data": {
      "text/html": [
       "<div>\n",
       "<style scoped>\n",
       "    .dataframe tbody tr th:only-of-type {\n",
       "        vertical-align: middle;\n",
       "    }\n",
       "\n",
       "    .dataframe tbody tr th {\n",
       "        vertical-align: top;\n",
       "    }\n",
       "\n",
       "    .dataframe thead th {\n",
       "        text-align: right;\n",
       "    }\n",
       "</style>\n",
       "<table border=\"1\" class=\"dataframe\">\n",
       "  <thead>\n",
       "    <tr style=\"text-align: right;\">\n",
       "      <th></th>\n",
       "      <th></th>\n",
       "      <th>colored_error</th>\n",
       "      <th>keep_error</th>\n",
       "    </tr>\n",
       "    <tr>\n",
       "      <th>relative_path</th>\n",
       "      <th>split_depth</th>\n",
       "      <th></th>\n",
       "      <th></th>\n",
       "    </tr>\n",
       "  </thead>\n",
       "  <tbody>\n",
       "    <tr>\n",
       "      <th rowspan=\"2\" valign=\"top\">hipspec-rotate/rotate-goal7.th</th>\n",
       "      <th>3</th>\n",
       "      <td>Timeout Exception</td>\n",
       "      <td>memory allocation of 4194304 bytes failed\\n</td>\n",
       "    </tr>\n",
       "    <tr>\n",
       "      <th>4</th>\n",
       "      <td>Timeout Exception</td>\n",
       "      <td>memory allocation of 36 bytes failed\\n</td>\n",
       "    </tr>\n",
       "  </tbody>\n",
       "</table>\n",
       "</div>"
      ],
      "text/plain": [
       "                                                colored_error   \n",
       "relative_path                  split_depth                      \n",
       "hipspec-rotate/rotate-goal7.th 3            Timeout Exception  \\\n",
       "                               4            Timeout Exception   \n",
       "\n",
       "                                                                             keep_error  \n",
       "relative_path                  split_depth                                               \n",
       "hipspec-rotate/rotate-goal7.th 3            memory allocation of 4194304 bytes failed\\n  \n",
       "                               4                 memory allocation of 36 bytes failed\\n  "
      ]
     },
     "execution_count": 71,
     "metadata": {},
     "output_type": "execute_result"
    }
   ],
   "source": [
    "fixed_colored[fixed_colored.index.get_level_values('relative_path').str.contains('hipspec-rotate')]"
   ]
  }
 ],
 "metadata": {
  "kernelspec": {
   "display_name": "venv",
   "language": "python",
   "name": "python3"
  },
  "language_info": {
   "codemirror_mode": {
    "name": "ipython",
    "version": 3
   },
   "file_extension": ".py",
   "mimetype": "text/x-python",
   "name": "python",
   "nbconvert_exporter": "python",
   "pygments_lexer": "ipython3",
   "version": "3.10.6"
  },
  "orig_nbformat": 4
 },
 "nbformat": 4,
 "nbformat_minor": 2
}
