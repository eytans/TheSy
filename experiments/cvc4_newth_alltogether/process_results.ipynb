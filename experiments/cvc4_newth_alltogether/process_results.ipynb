{
 "cells": [
  {
   "cell_type": "code",
   "execution_count": 11,
   "metadata": {},
   "outputs": [],
   "source": [
    "# coding: utf-8\n",
    "import pandas as pd\n",
    "from pathlib import Path\n",
    "root = Path('.')\n",
    "root = root.absolute()\n",
    "test_cases_root = root / \"testcases\"\n",
    "results_root = root / \"fmcad_results_2023-05-06_10-28-32/\""
   ]
  },
  {
   "cell_type": "code",
   "execution_count": 33,
   "metadata": {},
   "outputs": [
    {
     "name": "stdout",
     "output_type": "stream",
     "text": [
      "root:  /home/eytan/Work/TheSy/experiments/cvc4_newth_alltogether\n",
      "test_cases_root:  /home/eytan/Work/TheSy/experiments/cvc4_newth_alltogether/testcases\n",
      "results_root:  /home/eytan/Work/TheSy/experiments/cvc4_newth_alltogether/fmcad_results_2023-05-06_10-28-32\n",
      "cwd:  /home/eytan/Work/TheSy/experiments/cvc4_newth_alltogether\n"
     ]
    }
   ],
   "source": [
    "print(\"root: \", root)\n",
    "print(\"test_cases_root: \", test_cases_root)\n",
    "print(\"results_root: \", results_root)\n",
    "# cwd\n",
    "print(\"cwd: \", Path.cwd())"
   ]
  },
  {
   "cell_type": "code",
   "execution_count": 19,
   "metadata": {},
   "outputs": [],
   "source": [
    "test_cases = [y for x in test_cases_root.iterdir() for y in x.iterdir() if y.suffix == \".th\"]\n",
    "rel_cases = [x.relative_to(test_cases_root) for x in test_cases]\n",
    "configs = [x.name for x in results_root.iterdir()]\n",
    "jsons = {n: pd.read_csv(results_root /  n/ \"stats.csv\") for n in configs}\n",
    "# Rename columns such that Unnamed: 0 is the test suite nameL\n",
    "jsons = {n: j.rename(columns={\"Unnamed: 0\": \"test_suite\"}) for n, j in jsons.items()}\n",
    "# Assert test suite column of first configurations contains at least one case of clam\n",
    "assert any(jsons[configs[0]][\"test_suite\"].str.contains(\"clam\"))"
   ]
  },
  {
   "cell_type": "code",
   "execution_count": 36,
   "metadata": {},
   "outputs": [],
   "source": [
    "# Start adding missing files by first adding an error column\n",
    "for j in jsons.values():\n",
    "    j[\"error\"] = None\n",
    "\n",
    "# Now add the missing files. For each missing case find the corresponding error file\n",
    "for n, j in jsons.items():\n",
    "    # Find missing cases by relative path to rel_cases\n",
    "    in_df = j['relative_path'].unique()\n",
    "    missing_cases = [r for r in rel_cases if r not in in_df]\n",
    "    for fn in missing_cases:\n",
    "        errors = (results_root / n / fn.with_suffix('.err')).read_text()\n",
    "        j.loc[len(j)] = {\"relative_path\": fn, \"error\": errors}\n",
    "        "
   ]
  },
  {
   "cell_type": "code",
   "execution_count": 44,
   "metadata": {},
   "outputs": [
    {
     "name": "stdout",
     "output_type": "stream",
     "text": [
      "error\n",
      "Timeout Exception                                                                                                                                                                                                                                                                                                                      71\n",
      "16:30:35 \u001b[0m\u001b[31m[ERROR] \u001b[0mUnrecognized token `(` found at 2707:2708\\nExpected one of \"then\"\\nthread 'main' panicked at 'Please implement error handling', src/thesy/semantics.rs:123:17\\nnote: run with `RUST_BACKTRACE=1` environment variable to display a backtrace\\n                                                           18\n",
      "thread 'main' panicked at 'called `Result::unwrap()` on an `Err` value: \"Found a list in the head position: [String(\\\"x\\\"), String(\\\"Nat\\\")]\"', src/bin/expl_experiment.rs:125:28\\nnote: run with `RUST_BACKTRACE=1` environment variable to display a backtrace\\n                                                                     13\n",
      "16:30:35 \u001b[0m\u001b[31m[ERROR] \u001b[0mUnrecognized token `(` found at 4357:4358\\nExpected one of \"then\"\\nthread 'main' panicked at 'Please implement error handling', src/thesy/semantics.rs:123:17\\nnote: run with `RUST_BACKTRACE=1` environment variable to display a backtrace\\n                                                           10\n",
      "memory allocation of 1179664 bytes failed\\n                                                                                                                                                                                                                                                                                             3\n",
      "16:36:39 \u001b[0m\u001b[31m[ERROR] \u001b[0mInvalid token at 3928\\nthread 'main' panicked at 'Please implement error handling', src/thesy/semantics.rs:123:17\\nnote: run with `RUST_BACKTRACE=1` environment variable to display a backtrace\\n                                                                                                        2\n",
      "16:40:43 \u001b[0m\u001b[31m[ERROR] \u001b[0mInvalid token at 3928\\nthread 'main' panicked at 'Please implement error handling', src/thesy/semantics.rs:123:17\\nnote: run with `RUST_BACKTRACE=1` environment variable to display a backtrace\\n                                                                                                        2\n",
      "memory allocation of 1376256 bytes failed\\n                                                                                                                                                                                                                                                                                             2\n",
      "16:40:35 \u001b[0m\u001b[31m[ERROR] \u001b[0mUnrecognized token `(` found at 4357:4358\\nExpected one of \"then\"\\nthread 'main' panicked at 'Please implement error handling', src/thesy/semantics.rs:123:17\\nnote: run with `RUST_BACKTRACE=1` environment variable to display a backtrace\\n                                                            2\n",
      "16:30:43 \u001b[0m\u001b[31m[ERROR] \u001b[0mInvalid token at 3928\\nthread 'main' panicked at 'Please implement error handling', src/thesy/semantics.rs:123:17\\nnote: run with `RUST_BACKTRACE=1` environment variable to display a backtrace\\n                                                                                                        1\n",
      "16:34:32 \u001b[0m\u001b[31m[ERROR] \u001b[0mInvalid token at 3928\\nthread 'main' panicked at 'Please implement error handling', src/thesy/semantics.rs:123:17\\nnote: run with `RUST_BACKTRACE=1` environment variable to display a backtrace\\n                                                                                                        1\n",
      "16:37:35 \u001b[0m\u001b[31m[ERROR] \u001b[0mInvalid token at 3928\\nthread 'main' panicked at 'Please implement error handling', src/thesy/semantics.rs:123:17\\nnote: run with `RUST_BACKTRACE=1` environment variable to display a backtrace\\n                                                                                                        1\n",
      "memory allocation of 5015824 bytes failed\\n                                                                                                                                                                                                                                                                                             1\n",
      "16:36:38 \u001b[0m\u001b[31m[ERROR] \u001b[0mInvalid token at 3928\\nthread 'main' panicked at 'Please implement error handling', src/thesy/semantics.rs:123:17\\nnote: run with `RUST_BACKTRACE=1` environment variable to display a backtrace\\n                                                                                                        1\n",
      "memory allocation of 60129542144 bytes failed\\n                                                                                                                                                                                                                                                                                         1\n",
      "memory allocation of 2688 bytes failed\\n                                                                                                                                                                                                                                                                                                1\n",
      "memory allocation of 112 bytes failed\\n                                                                                                                                                                                                                                                                                                 1\n",
      "16:20:36 \u001b[0m\u001b[31m[ERROR] \u001b[0mUnrecognized token `=>` found at 1247:1249\\nExpected one of \"(\", \"=\", \"?\", r#\"#[^#]+#\"# or r#\"[a-zA-Z+\\\\-/_*&$%^@0-9]+\"#\\nthread 'main' panicked at 'Please implement error handling', src/thesy/semantics.rs:123:17\\nnote: run with `RUST_BACKTRACE=1` environment variable to display a backtrace\\n     1\n",
      "memory allocation of 86016 bytes failed\\n                                                                                                                                                                                                                                                                                               1\n",
      "memory allocation of 233488 bytes failed\\n                                                                                                                                                                                                                                                                                              1\n",
      "16:20:34 \u001b[0m\u001b[31m[ERROR] \u001b[0mUnrecognized token `s` found at 466:467\\nExpected one of \")\"\\nthread 'main' panicked at 'Please implement error handling', src/thesy/semantics.rs:123:17\\nnote: run with `RUST_BACKTRACE=1` environment variable to display a backtrace\\n                                                                 1\n",
      "16:30:35 \u001b[0m\u001b[31m[ERROR] \u001b[0mUnrecognized token `s` found at 426:427\\nExpected one of \")\"\\nthread 'main' panicked at 'Please implement error handling', src/thesy/semantics.rs:123:17\\nnote: run with `RUST_BACKTRACE=1` environment variable to display a backtrace\\n                                                                 1\n",
      "16:10:34 \u001b[0m\u001b[31m[ERROR] \u001b[0mUnrecognized token `s` found at 541:542\\nExpected one of \")\"\\nthread 'main' panicked at 'Please implement error handling', src/thesy/semantics.rs:123:17\\nnote: run with `RUST_BACKTRACE=1` environment variable to display a backtrace\\n                                                                 1\n",
      "16:10:34 \u001b[0m\u001b[31m[ERROR] \u001b[0mUnrecognized token `s` found at 431:432\\nExpected one of \")\"\\nthread 'main' panicked at 'Please implement error handling', src/thesy/semantics.rs:123:17\\nnote: run with `RUST_BACKTRACE=1` environment variable to display a backtrace\\n                                                                 1\n",
      "Name: count, dtype: int64\n"
     ]
    }
   ],
   "source": [
    "print(jsons[configs[0]]['error'].value_counts())"
   ]
  },
  {
   "cell_type": "code",
   "execution_count": null,
   "metadata": {},
   "outputs": [],
   "source": []
  }
 ],
 "metadata": {
  "kernelspec": {
   "display_name": "venv",
   "language": "python",
   "name": "python3"
  },
  "language_info": {
   "codemirror_mode": {
    "name": "ipython",
    "version": 3
   },
   "file_extension": ".py",
   "mimetype": "text/x-python",
   "name": "python",
   "nbconvert_exporter": "python",
   "pygments_lexer": "ipython3",
   "version": "3.10.6"
  },
  "orig_nbformat": 4
 },
 "nbformat": 4,
 "nbformat_minor": 2
}
