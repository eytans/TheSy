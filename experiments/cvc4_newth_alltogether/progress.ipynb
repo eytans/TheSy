{
 "cells": [
  {
   "cell_type": "code",
   "execution_count": 7,
   "id": "initial_id",
   "metadata": {
    "collapsed": true,
    "ExecuteTime": {
     "end_time": "2023-10-20T09:10:36.944855Z",
     "start_time": "2023-10-20T09:10:36.939726Z"
    }
   },
   "outputs": [],
   "source": [
    "# coding: utf-8\n",
    "import pandas as pd\n",
    "from pathlib import Path\n",
    "import json\n",
    "root = Path('.')\n",
    "root = root.absolute()\n",
    "test_cases_root = root / \"testcases\"\n",
    "run_confs = {4: \"oopsla-final-4gb\", 8: \"oopsla-final-8gb\", 16: \"oopsla-final-16gb\", 32: \"oopsla-final-32gb\"}\n",
    "results_roots = { k: root / x for k, x in run_confs.items()}"
   ]
  },
  {
   "cell_type": "code",
   "execution_count": 8,
   "outputs": [
    {
     "name": "stdout",
     "output_type": "stream",
     "text": [
      "root:  /Users/eytansingher/Work/TheSy/experiments/cvc4_newth_alltogether\n",
      "test_cases_root:  /Users/eytansingher/Work/TheSy/experiments/cvc4_newth_alltogether/testcases\n",
      "results_root:  {4: PosixPath('/Users/eytansingher/Work/TheSy/experiments/cvc4_newth_alltogether/oopsla-final-4gb'), 8: PosixPath('/Users/eytansingher/Work/TheSy/experiments/cvc4_newth_alltogether/oopsla-final-8gb'), 16: PosixPath('/Users/eytansingher/Work/TheSy/experiments/cvc4_newth_alltogether/oopsla-final-16gb'), 32: PosixPath('/Users/eytansingher/Work/TheSy/experiments/cvc4_newth_alltogether/oopsla-final-32gb')}\n",
      "cwd:  /Users/eytansingher/Work/TheSy/experiments/cvc4_newth_alltogether\n"
     ]
    }
   ],
   "source": [
    "print(\"root: \", root)\n",
    "print(\"test_cases_root: \", test_cases_root)\n",
    "print(\"results_root: \", results_roots)\n",
    "# cwd\n",
    "print(\"cwd: \", Path.cwd())"
   ],
   "metadata": {
    "collapsed": false,
    "ExecuteTime": {
     "end_time": "2023-10-20T09:10:37.376765Z",
     "start_time": "2023-10-20T09:10:37.373404Z"
    }
   },
   "id": "61ac2e921a34f62c"
  },
  {
   "cell_type": "code",
   "execution_count": 25,
   "outputs": [],
   "source": [
    "import json\n",
    "# Now we need to process the reports. Each report should be read, and then split into it's subjsons:\n",
    "# Each json is preceded by \"--------------------------------\"\\n and followed by \"----------------------------------------------------------------\"\n",
    "# We can use this to split the file into a list of jsons, and then use json.loads to load each json\n",
    "def split_report(report):\n",
    "    with open(report, 'r') as f:\n",
    "        lines = f.readlines()\n",
    "    # Remove all non-json\n",
    "    lines = [x for x in lines if x.startswith(\"{\")]\n",
    "    # cleanup final \"-----\" from the lines\n",
    "    lines = [x.replace(\"--------------------------------\", \"\") for x in lines]\n",
    "    # load jsons\n",
    "    jsons = [json.loads(x) for x in lines]\n",
    "    return jsons"
   ],
   "metadata": {
    "collapsed": false,
    "ExecuteTime": {
     "end_time": "2023-10-20T09:49:43.035150Z",
     "start_time": "2023-10-20T09:49:43.019788Z"
    }
   },
   "id": "c817a637e9178ed2"
  },
  {
   "cell_type": "code",
   "execution_count": 27,
   "outputs": [],
   "source": [
    "test_cases = [y for x in test_cases_root.iterdir() if x.is_dir() for y in x.iterdir() if y.suffix == \".th\"]\n",
    "rel_cases = [x.relative_to(test_cases_root) for x in test_cases]\n",
    "\n",
    "# Use pathlib glob for each result root to find all .report.txt files\n",
    "for r in results_roots.values():\n",
    "    assert r.is_dir()\n",
    "    assert r.exists()\n",
    "reports = {k: {conf: [(y, split_report(y)) for y in conf.rglob(\"*.report.txt\")] for conf in root.iterdir() if conf.is_dir()}for k, root in results_roots.items()}"
   ],
   "metadata": {
    "collapsed": false,
    "ExecuteTime": {
     "end_time": "2023-10-20T09:56:13.738029Z",
     "start_time": "2023-10-20T09:55:05.212855Z"
    }
   },
   "id": "d3acd1b14d33fe6e"
  },
  {
   "cell_type": "code",
   "execution_count": 67,
   "outputs": [
    {
     "data": {
      "text/plain": "         apply_time     graph_size  rebuild_time       run_time  \\\ncount   4220.000000    4220.000000   4220.000000    4220.000000   \nmean     224.378673   10406.655687    496.787441   49281.478436   \nstd     1773.964783   40338.814603   3191.641473  138262.283198   \nmin        0.000000      22.000000      0.000000      19.000000   \n25%        0.000000      37.000000      0.000000      51.000000   \n50%        0.000000      42.000000      0.000000     113.000000   \n75%       15.000000      47.000000     36.000000    2578.000000   \nmax    87067.000000  520323.000000  71209.000000  599963.000000   \n\n         search_time  split_count  total_applied  total_graph_size  \\\ncount    4220.000000  4220.000000   4.220000e+03       4220.000000   \nmean    33785.510427    66.710427   2.628604e+05      10657.430569   \nstd    111158.582253   211.571151   1.713429e+06      40407.062421   \nmin         0.000000     0.000000   3.200000e+01         22.000000   \n25%         0.000000     0.000000   4.920000e+02         37.000000   \n50%         0.000000     8.000000   2.111500e+03         42.000000   \n75%       742.000000    60.000000   6.860325e+04         47.000000   \nmax    595516.000000  3906.000000   8.499911e+07     520323.000000   \n\n       total_matches        depth  progress.CaseSplitEquivReduc  \\\ncount   4.220000e+03  4220.000000                    258.000000   \nmean    5.499916e+05     2.500000                      1.565891   \nstd     3.433328e+06     1.118166                      1.205338   \nmin     8.030000e+02     1.000000                      0.000000   \n25%     9.125000e+03     1.750000                      0.000000   \n50%     1.813400e+04     2.500000                      2.000000   \n75%     1.708790e+05     3.250000                      3.000000   \nmax     1.489146e+08     4.000000                      3.000000   \n\n       progress.CaseSplitStart  progress.CaseSplitMergeConclusions  \\\ncount                30.000000                           64.000000   \nmean                  1.400000                            2.421875   \nstd                   0.723974                            1.080927   \nmin                   1.000000                            1.000000   \n25%                   1.000000                            1.000000   \n50%                   1.000000                            2.500000   \n75%                   1.750000                            3.000000   \nmax                   3.000000                            4.000000   \n\n       progress.CaseSplitFindSplitters  \ncount                       218.000000  \nmean                          2.334862  \nstd                           1.153146  \nmin                           1.000000  \n25%                           1.000000  \n50%                           2.000000  \n75%                           3.000000  \nmax                           4.000000  ",
      "text/html": "<div>\n<style scoped>\n    .dataframe tbody tr th:only-of-type {\n        vertical-align: middle;\n    }\n\n    .dataframe tbody tr th {\n        vertical-align: top;\n    }\n\n    .dataframe thead th {\n        text-align: right;\n    }\n</style>\n<table border=\"1\" class=\"dataframe\">\n  <thead>\n    <tr style=\"text-align: right;\">\n      <th></th>\n      <th>apply_time</th>\n      <th>graph_size</th>\n      <th>rebuild_time</th>\n      <th>run_time</th>\n      <th>search_time</th>\n      <th>split_count</th>\n      <th>total_applied</th>\n      <th>total_graph_size</th>\n      <th>total_matches</th>\n      <th>depth</th>\n      <th>progress.CaseSplitEquivReduc</th>\n      <th>progress.CaseSplitStart</th>\n      <th>progress.CaseSplitMergeConclusions</th>\n      <th>progress.CaseSplitFindSplitters</th>\n    </tr>\n  </thead>\n  <tbody>\n    <tr>\n      <th>count</th>\n      <td>4220.000000</td>\n      <td>4220.000000</td>\n      <td>4220.000000</td>\n      <td>4220.000000</td>\n      <td>4220.000000</td>\n      <td>4220.000000</td>\n      <td>4.220000e+03</td>\n      <td>4220.000000</td>\n      <td>4.220000e+03</td>\n      <td>4220.000000</td>\n      <td>258.000000</td>\n      <td>30.000000</td>\n      <td>64.000000</td>\n      <td>218.000000</td>\n    </tr>\n    <tr>\n      <th>mean</th>\n      <td>224.378673</td>\n      <td>10406.655687</td>\n      <td>496.787441</td>\n      <td>49281.478436</td>\n      <td>33785.510427</td>\n      <td>66.710427</td>\n      <td>2.628604e+05</td>\n      <td>10657.430569</td>\n      <td>5.499916e+05</td>\n      <td>2.500000</td>\n      <td>1.565891</td>\n      <td>1.400000</td>\n      <td>2.421875</td>\n      <td>2.334862</td>\n    </tr>\n    <tr>\n      <th>std</th>\n      <td>1773.964783</td>\n      <td>40338.814603</td>\n      <td>3191.641473</td>\n      <td>138262.283198</td>\n      <td>111158.582253</td>\n      <td>211.571151</td>\n      <td>1.713429e+06</td>\n      <td>40407.062421</td>\n      <td>3.433328e+06</td>\n      <td>1.118166</td>\n      <td>1.205338</td>\n      <td>0.723974</td>\n      <td>1.080927</td>\n      <td>1.153146</td>\n    </tr>\n    <tr>\n      <th>min</th>\n      <td>0.000000</td>\n      <td>22.000000</td>\n      <td>0.000000</td>\n      <td>19.000000</td>\n      <td>0.000000</td>\n      <td>0.000000</td>\n      <td>3.200000e+01</td>\n      <td>22.000000</td>\n      <td>8.030000e+02</td>\n      <td>1.000000</td>\n      <td>0.000000</td>\n      <td>1.000000</td>\n      <td>1.000000</td>\n      <td>1.000000</td>\n    </tr>\n    <tr>\n      <th>25%</th>\n      <td>0.000000</td>\n      <td>37.000000</td>\n      <td>0.000000</td>\n      <td>51.000000</td>\n      <td>0.000000</td>\n      <td>0.000000</td>\n      <td>4.920000e+02</td>\n      <td>37.000000</td>\n      <td>9.125000e+03</td>\n      <td>1.750000</td>\n      <td>0.000000</td>\n      <td>1.000000</td>\n      <td>1.000000</td>\n      <td>1.000000</td>\n    </tr>\n    <tr>\n      <th>50%</th>\n      <td>0.000000</td>\n      <td>42.000000</td>\n      <td>0.000000</td>\n      <td>113.000000</td>\n      <td>0.000000</td>\n      <td>8.000000</td>\n      <td>2.111500e+03</td>\n      <td>42.000000</td>\n      <td>1.813400e+04</td>\n      <td>2.500000</td>\n      <td>2.000000</td>\n      <td>1.000000</td>\n      <td>2.500000</td>\n      <td>2.000000</td>\n    </tr>\n    <tr>\n      <th>75%</th>\n      <td>15.000000</td>\n      <td>47.000000</td>\n      <td>36.000000</td>\n      <td>2578.000000</td>\n      <td>742.000000</td>\n      <td>60.000000</td>\n      <td>6.860325e+04</td>\n      <td>47.000000</td>\n      <td>1.708790e+05</td>\n      <td>3.250000</td>\n      <td>3.000000</td>\n      <td>1.750000</td>\n      <td>3.000000</td>\n      <td>3.000000</td>\n    </tr>\n    <tr>\n      <th>max</th>\n      <td>87067.000000</td>\n      <td>520323.000000</td>\n      <td>71209.000000</td>\n      <td>599963.000000</td>\n      <td>595516.000000</td>\n      <td>3906.000000</td>\n      <td>8.499911e+07</td>\n      <td>520323.000000</td>\n      <td>1.489146e+08</td>\n      <td>4.000000</td>\n      <td>3.000000</td>\n      <td>3.000000</td>\n      <td>4.000000</td>\n      <td>4.000000</td>\n    </tr>\n  </tbody>\n</table>\n</div>"
     },
     "execution_count": 67,
     "metadata": {},
     "output_type": "execute_result"
    }
   ],
   "source": [
    " # Now we need to process the data from the jsons. We will need a dataframe indexed by memory (k), config, testcase (y)\n",
    "\n",
    "import pandas\n",
    "from copy import deepcopy\n",
    "\n",
    "flattened_reports = []\n",
    "for k, d in reports.items():\n",
    "    if k != 4:\n",
    "        continue\n",
    "    for conf, data in d.items():\n",
    "        fixed = []\n",
    "        for (y, jsons) in data:\n",
    "            if len(jsons) == 0:\n",
    "                continue\n",
    "            j = deepcopy(jsons[-1])\n",
    "            j['key'] = (k, conf.name, y.parent.name, y.name)\n",
    "            j['case'] = (y.parent.name, y.name)\n",
    "            j['conf'] = conf.name.replace(\"case_split_proof_split_\", \"\").replace(\"_stats_progress_report\", \"\")\n",
    "            j['depth'] = int(j['conf'][0])\n",
    "            j['conf'] = j['conf'][1:].replace(\"_split_\", \"\")\n",
    "            fixed.append(j)\n",
    "        flattened_reports.extend(fixed)\n",
    "        \n",
    "pd = pandas.json_normalize(flattened_reports).set_index('key')\n",
    "pd.describe()"
   ],
   "metadata": {
    "collapsed": false,
    "ExecuteTime": {
     "end_time": "2023-10-20T11:52:35.538859Z",
     "start_time": "2023-10-20T11:52:35.467137Z"
    }
   },
   "id": "9ab12c770036eafd"
  },
  {
   "cell_type": "code",
   "execution_count": 69,
   "outputs": [
    {
     "data": {
      "text/plain": "conf                                      clone  clone_keep_splits  colored  \\\ncase                               depth                                      \n(clam, goal54.report.txt)          3      184.0              184.0    186.0   \n                                   4      260.0              260.0    302.0   \n(clam, goal55.report.txt)          4      126.0              126.0    154.0   \n(clam, goal56.report.txt)          4      504.0              504.0    576.0   \n(clam, goal57.report.txt)          4      114.0              114.0    146.0   \n...                                         ...                ...      ...   \n(leon-heap, heap-goal6.report.txt) 4      470.0              470.0    162.0   \n(leon-heap, heap-goal7.report.txt) 3      274.0              274.0    284.0   \n                                   4      538.0              538.0    122.0   \n(leon-heap, heap-goal8.report.txt) 4      438.0              438.0    304.0   \n(leon-heap, heap-goal9.report.txt) 4      312.0              312.0    164.0   \n\nconf                                      no_cmemo  no_cremove  \ncase                               depth                        \n(clam, goal54.report.txt)          3         296.0       186.0  \n                                   4         774.0       300.0  \n(clam, goal55.report.txt)          4         244.0       154.0  \n(clam, goal56.report.txt)          4        1458.0       580.0  \n(clam, goal57.report.txt)          4         230.0       144.0  \n...                                            ...         ...  \n(leon-heap, heap-goal6.report.txt) 4         702.0       162.0  \n(leon-heap, heap-goal7.report.txt) 3         584.0       284.0  \n                                   4         700.0       122.0  \n(leon-heap, heap-goal8.report.txt) 4         506.0       304.0  \n(leon-heap, heap-goal9.report.txt) 4         492.0       164.0  \n\n[182 rows x 5 columns]",
      "text/html": "<div>\n<style scoped>\n    .dataframe tbody tr th:only-of-type {\n        vertical-align: middle;\n    }\n\n    .dataframe tbody tr th {\n        vertical-align: top;\n    }\n\n    .dataframe thead th {\n        text-align: right;\n    }\n</style>\n<table border=\"1\" class=\"dataframe\">\n  <thead>\n    <tr style=\"text-align: right;\">\n      <th></th>\n      <th>conf</th>\n      <th>clone</th>\n      <th>clone_keep_splits</th>\n      <th>colored</th>\n      <th>no_cmemo</th>\n      <th>no_cremove</th>\n    </tr>\n    <tr>\n      <th>case</th>\n      <th>depth</th>\n      <th></th>\n      <th></th>\n      <th></th>\n      <th></th>\n      <th></th>\n    </tr>\n  </thead>\n  <tbody>\n    <tr>\n      <th rowspan=\"2\" valign=\"top\">(clam, goal54.report.txt)</th>\n      <th>3</th>\n      <td>184.0</td>\n      <td>184.0</td>\n      <td>186.0</td>\n      <td>296.0</td>\n      <td>186.0</td>\n    </tr>\n    <tr>\n      <th>4</th>\n      <td>260.0</td>\n      <td>260.0</td>\n      <td>302.0</td>\n      <td>774.0</td>\n      <td>300.0</td>\n    </tr>\n    <tr>\n      <th>(clam, goal55.report.txt)</th>\n      <th>4</th>\n      <td>126.0</td>\n      <td>126.0</td>\n      <td>154.0</td>\n      <td>244.0</td>\n      <td>154.0</td>\n    </tr>\n    <tr>\n      <th>(clam, goal56.report.txt)</th>\n      <th>4</th>\n      <td>504.0</td>\n      <td>504.0</td>\n      <td>576.0</td>\n      <td>1458.0</td>\n      <td>580.0</td>\n    </tr>\n    <tr>\n      <th>(clam, goal57.report.txt)</th>\n      <th>4</th>\n      <td>114.0</td>\n      <td>114.0</td>\n      <td>146.0</td>\n      <td>230.0</td>\n      <td>144.0</td>\n    </tr>\n    <tr>\n      <th>...</th>\n      <th>...</th>\n      <td>...</td>\n      <td>...</td>\n      <td>...</td>\n      <td>...</td>\n      <td>...</td>\n    </tr>\n    <tr>\n      <th>(leon-heap, heap-goal6.report.txt)</th>\n      <th>4</th>\n      <td>470.0</td>\n      <td>470.0</td>\n      <td>162.0</td>\n      <td>702.0</td>\n      <td>162.0</td>\n    </tr>\n    <tr>\n      <th rowspan=\"2\" valign=\"top\">(leon-heap, heap-goal7.report.txt)</th>\n      <th>3</th>\n      <td>274.0</td>\n      <td>274.0</td>\n      <td>284.0</td>\n      <td>584.0</td>\n      <td>284.0</td>\n    </tr>\n    <tr>\n      <th>4</th>\n      <td>538.0</td>\n      <td>538.0</td>\n      <td>122.0</td>\n      <td>700.0</td>\n      <td>122.0</td>\n    </tr>\n    <tr>\n      <th>(leon-heap, heap-goal8.report.txt)</th>\n      <th>4</th>\n      <td>438.0</td>\n      <td>438.0</td>\n      <td>304.0</td>\n      <td>506.0</td>\n      <td>304.0</td>\n    </tr>\n    <tr>\n      <th>(leon-heap, heap-goal9.report.txt)</th>\n      <th>4</th>\n      <td>312.0</td>\n      <td>312.0</td>\n      <td>164.0</td>\n      <td>492.0</td>\n      <td>164.0</td>\n    </tr>\n  </tbody>\n</table>\n<p>182 rows × 5 columns</p>\n</div>"
     },
     "execution_count": 69,
     "metadata": {},
     "output_type": "execute_result"
    }
   ],
   "source": [
    "# compare split count of all columns with the same case\n",
    "pivot = pd.loc[pd.split_count != 0].pivot_table(index=['case', 'depth'], columns='conf', values='split_count')\n",
    "pivot.loc[pivot['colored'] != pivot['clone_keep_splits']]"
   ],
   "metadata": {
    "collapsed": false,
    "ExecuteTime": {
     "end_time": "2023-10-20T11:53:46.612339Z",
     "start_time": "2023-10-20T11:53:46.555389Z"
    }
   },
   "id": "503cbec5dd611b73"
  },
  {
   "cell_type": "code",
   "execution_count": 40,
   "outputs": [
    {
     "ename": "SyntaxError",
     "evalue": "invalid syntax (4103080003.py, line 1)",
     "output_type": "error",
     "traceback": [
      "\u001B[0;36m  Cell \u001B[0;32mIn[40], line 1\u001B[0;36m\u001B[0m\n\u001B[0;31m    (4, /Users/eytansingher/Work/TheSy/experiments/cvc4_newth_alltogether/oopsla-final-4gb/case_split_proof_split_4_split_clone_keep_splits_stats_progress_report, /Users/eytansingher/Work/TheSy/experiments/cvc4_newth_alltogether/oopsla-final-4gb/case_split_proof_split_4_split_clone_keep_splits_stats_progress_report/leon-heap/heap-goal3.report.txt)\u001B[0m\n\u001B[0m        ^\u001B[0m\n\u001B[0;31mSyntaxError\u001B[0m\u001B[0;31m:\u001B[0m invalid syntax\n"
     ]
    }
   ],
   "source": [
    "(4, /Users/eytansingher/Work/TheSy/experiments/cvc4_newth_alltogether/oopsla-final-4gb/case_split_proof_split_4_split_clone_keep_splits_stats_progress_report, /Users/eytansingher/Work/TheSy/experiments/cvc4_newth_alltogether/oopsla-final-4gb/case_split_proof_split_4_split_clone_keep_splits_stats_progress_report/leon-heap/heap-goal3.report.txt)"
   ],
   "metadata": {
    "collapsed": false,
    "ExecuteTime": {
     "end_time": "2023-10-20T11:41:45.174498Z",
     "start_time": "2023-10-20T11:41:45.157651Z"
    }
   },
   "id": "ba0f01e1c0863c69"
  },
  {
   "cell_type": "code",
   "execution_count": null,
   "outputs": [],
   "source": [],
   "metadata": {
    "collapsed": false
   },
   "id": "c07ffc36c91e393e"
  }
 ],
 "metadata": {
  "kernelspec": {
   "display_name": "Python 3",
   "language": "python",
   "name": "python3"
  },
  "language_info": {
   "codemirror_mode": {
    "name": "ipython",
    "version": 2
   },
   "file_extension": ".py",
   "mimetype": "text/x-python",
   "name": "python",
   "nbconvert_exporter": "python",
   "pygments_lexer": "ipython2",
   "version": "2.7.6"
  }
 },
 "nbformat": 4,
 "nbformat_minor": 5
}
